{
  "nbformat": 4,
  "nbformat_minor": 0,
  "metadata": {
    "colab": {
      "provenance": []
    },
    "kernelspec": {
      "name": "python3",
      "display_name": "Python 3"
    },
    "language_info": {
      "name": "python"
    },
    "gpuClass": "standard",
    "widgets": {
      "application/vnd.jupyter.widget-state+json": {
        "d55373061520403c96d61ffdad06993a": {
          "model_module": "@jupyter-widgets/controls",
          "model_name": "HBoxModel",
          "model_module_version": "1.5.0",
          "state": {
            "_dom_classes": [],
            "_model_module": "@jupyter-widgets/controls",
            "_model_module_version": "1.5.0",
            "_model_name": "HBoxModel",
            "_view_count": null,
            "_view_module": "@jupyter-widgets/controls",
            "_view_module_version": "1.5.0",
            "_view_name": "HBoxView",
            "box_style": "",
            "children": [
              "IPY_MODEL_bb4bf1afa52546faa33ed0a48d5465a0",
              "IPY_MODEL_3744035230bb46e6b30dfe79386368ba",
              "IPY_MODEL_c13a23b2a235491a8686aa83dad15aeb"
            ],
            "layout": "IPY_MODEL_2f4c0514d0314351a1c81815569b829c"
          }
        },
        "bb4bf1afa52546faa33ed0a48d5465a0": {
          "model_module": "@jupyter-widgets/controls",
          "model_name": "HTMLModel",
          "model_module_version": "1.5.0",
          "state": {
            "_dom_classes": [],
            "_model_module": "@jupyter-widgets/controls",
            "_model_module_version": "1.5.0",
            "_model_name": "HTMLModel",
            "_view_count": null,
            "_view_module": "@jupyter-widgets/controls",
            "_view_module_version": "1.5.0",
            "_view_name": "HTMLView",
            "description": "",
            "description_tooltip": null,
            "layout": "IPY_MODEL_236501633e0c4e128485a479533c524c",
            "placeholder": "​",
            "style": "IPY_MODEL_a34f89e6c3b74ef09a72a0d2cc4c0100",
            "value": "100%"
          }
        },
        "3744035230bb46e6b30dfe79386368ba": {
          "model_module": "@jupyter-widgets/controls",
          "model_name": "FloatProgressModel",
          "model_module_version": "1.5.0",
          "state": {
            "_dom_classes": [],
            "_model_module": "@jupyter-widgets/controls",
            "_model_module_version": "1.5.0",
            "_model_name": "FloatProgressModel",
            "_view_count": null,
            "_view_module": "@jupyter-widgets/controls",
            "_view_module_version": "1.5.0",
            "_view_name": "ProgressView",
            "bar_style": "success",
            "description": "",
            "description_tooltip": null,
            "layout": "IPY_MODEL_bbc2fd671a6541e3bc6542f2497d88a8",
            "max": 9912422,
            "min": 0,
            "orientation": "horizontal",
            "style": "IPY_MODEL_0599dcc80a0840a3bf4608970b612f49",
            "value": 9912422
          }
        },
        "c13a23b2a235491a8686aa83dad15aeb": {
          "model_module": "@jupyter-widgets/controls",
          "model_name": "HTMLModel",
          "model_module_version": "1.5.0",
          "state": {
            "_dom_classes": [],
            "_model_module": "@jupyter-widgets/controls",
            "_model_module_version": "1.5.0",
            "_model_name": "HTMLModel",
            "_view_count": null,
            "_view_module": "@jupyter-widgets/controls",
            "_view_module_version": "1.5.0",
            "_view_name": "HTMLView",
            "description": "",
            "description_tooltip": null,
            "layout": "IPY_MODEL_ebd5b7a5cdfa4643832ffc14cfff7d3d",
            "placeholder": "​",
            "style": "IPY_MODEL_d3113b65e3634052a0cb8498cb5e5428",
            "value": " 9912422/9912422 [00:00&lt;00:00, 101796711.82it/s]"
          }
        },
        "2f4c0514d0314351a1c81815569b829c": {
          "model_module": "@jupyter-widgets/base",
          "model_name": "LayoutModel",
          "model_module_version": "1.2.0",
          "state": {
            "_model_module": "@jupyter-widgets/base",
            "_model_module_version": "1.2.0",
            "_model_name": "LayoutModel",
            "_view_count": null,
            "_view_module": "@jupyter-widgets/base",
            "_view_module_version": "1.2.0",
            "_view_name": "LayoutView",
            "align_content": null,
            "align_items": null,
            "align_self": null,
            "border": null,
            "bottom": null,
            "display": null,
            "flex": null,
            "flex_flow": null,
            "grid_area": null,
            "grid_auto_columns": null,
            "grid_auto_flow": null,
            "grid_auto_rows": null,
            "grid_column": null,
            "grid_gap": null,
            "grid_row": null,
            "grid_template_areas": null,
            "grid_template_columns": null,
            "grid_template_rows": null,
            "height": null,
            "justify_content": null,
            "justify_items": null,
            "left": null,
            "margin": null,
            "max_height": null,
            "max_width": null,
            "min_height": null,
            "min_width": null,
            "object_fit": null,
            "object_position": null,
            "order": null,
            "overflow": null,
            "overflow_x": null,
            "overflow_y": null,
            "padding": null,
            "right": null,
            "top": null,
            "visibility": null,
            "width": null
          }
        },
        "236501633e0c4e128485a479533c524c": {
          "model_module": "@jupyter-widgets/base",
          "model_name": "LayoutModel",
          "model_module_version": "1.2.0",
          "state": {
            "_model_module": "@jupyter-widgets/base",
            "_model_module_version": "1.2.0",
            "_model_name": "LayoutModel",
            "_view_count": null,
            "_view_module": "@jupyter-widgets/base",
            "_view_module_version": "1.2.0",
            "_view_name": "LayoutView",
            "align_content": null,
            "align_items": null,
            "align_self": null,
            "border": null,
            "bottom": null,
            "display": null,
            "flex": null,
            "flex_flow": null,
            "grid_area": null,
            "grid_auto_columns": null,
            "grid_auto_flow": null,
            "grid_auto_rows": null,
            "grid_column": null,
            "grid_gap": null,
            "grid_row": null,
            "grid_template_areas": null,
            "grid_template_columns": null,
            "grid_template_rows": null,
            "height": null,
            "justify_content": null,
            "justify_items": null,
            "left": null,
            "margin": null,
            "max_height": null,
            "max_width": null,
            "min_height": null,
            "min_width": null,
            "object_fit": null,
            "object_position": null,
            "order": null,
            "overflow": null,
            "overflow_x": null,
            "overflow_y": null,
            "padding": null,
            "right": null,
            "top": null,
            "visibility": null,
            "width": null
          }
        },
        "a34f89e6c3b74ef09a72a0d2cc4c0100": {
          "model_module": "@jupyter-widgets/controls",
          "model_name": "DescriptionStyleModel",
          "model_module_version": "1.5.0",
          "state": {
            "_model_module": "@jupyter-widgets/controls",
            "_model_module_version": "1.5.0",
            "_model_name": "DescriptionStyleModel",
            "_view_count": null,
            "_view_module": "@jupyter-widgets/base",
            "_view_module_version": "1.2.0",
            "_view_name": "StyleView",
            "description_width": ""
          }
        },
        "bbc2fd671a6541e3bc6542f2497d88a8": {
          "model_module": "@jupyter-widgets/base",
          "model_name": "LayoutModel",
          "model_module_version": "1.2.0",
          "state": {
            "_model_module": "@jupyter-widgets/base",
            "_model_module_version": "1.2.0",
            "_model_name": "LayoutModel",
            "_view_count": null,
            "_view_module": "@jupyter-widgets/base",
            "_view_module_version": "1.2.0",
            "_view_name": "LayoutView",
            "align_content": null,
            "align_items": null,
            "align_self": null,
            "border": null,
            "bottom": null,
            "display": null,
            "flex": null,
            "flex_flow": null,
            "grid_area": null,
            "grid_auto_columns": null,
            "grid_auto_flow": null,
            "grid_auto_rows": null,
            "grid_column": null,
            "grid_gap": null,
            "grid_row": null,
            "grid_template_areas": null,
            "grid_template_columns": null,
            "grid_template_rows": null,
            "height": null,
            "justify_content": null,
            "justify_items": null,
            "left": null,
            "margin": null,
            "max_height": null,
            "max_width": null,
            "min_height": null,
            "min_width": null,
            "object_fit": null,
            "object_position": null,
            "order": null,
            "overflow": null,
            "overflow_x": null,
            "overflow_y": null,
            "padding": null,
            "right": null,
            "top": null,
            "visibility": null,
            "width": null
          }
        },
        "0599dcc80a0840a3bf4608970b612f49": {
          "model_module": "@jupyter-widgets/controls",
          "model_name": "ProgressStyleModel",
          "model_module_version": "1.5.0",
          "state": {
            "_model_module": "@jupyter-widgets/controls",
            "_model_module_version": "1.5.0",
            "_model_name": "ProgressStyleModel",
            "_view_count": null,
            "_view_module": "@jupyter-widgets/base",
            "_view_module_version": "1.2.0",
            "_view_name": "StyleView",
            "bar_color": null,
            "description_width": ""
          }
        },
        "ebd5b7a5cdfa4643832ffc14cfff7d3d": {
          "model_module": "@jupyter-widgets/base",
          "model_name": "LayoutModel",
          "model_module_version": "1.2.0",
          "state": {
            "_model_module": "@jupyter-widgets/base",
            "_model_module_version": "1.2.0",
            "_model_name": "LayoutModel",
            "_view_count": null,
            "_view_module": "@jupyter-widgets/base",
            "_view_module_version": "1.2.0",
            "_view_name": "LayoutView",
            "align_content": null,
            "align_items": null,
            "align_self": null,
            "border": null,
            "bottom": null,
            "display": null,
            "flex": null,
            "flex_flow": null,
            "grid_area": null,
            "grid_auto_columns": null,
            "grid_auto_flow": null,
            "grid_auto_rows": null,
            "grid_column": null,
            "grid_gap": null,
            "grid_row": null,
            "grid_template_areas": null,
            "grid_template_columns": null,
            "grid_template_rows": null,
            "height": null,
            "justify_content": null,
            "justify_items": null,
            "left": null,
            "margin": null,
            "max_height": null,
            "max_width": null,
            "min_height": null,
            "min_width": null,
            "object_fit": null,
            "object_position": null,
            "order": null,
            "overflow": null,
            "overflow_x": null,
            "overflow_y": null,
            "padding": null,
            "right": null,
            "top": null,
            "visibility": null,
            "width": null
          }
        },
        "d3113b65e3634052a0cb8498cb5e5428": {
          "model_module": "@jupyter-widgets/controls",
          "model_name": "DescriptionStyleModel",
          "model_module_version": "1.5.0",
          "state": {
            "_model_module": "@jupyter-widgets/controls",
            "_model_module_version": "1.5.0",
            "_model_name": "DescriptionStyleModel",
            "_view_count": null,
            "_view_module": "@jupyter-widgets/base",
            "_view_module_version": "1.2.0",
            "_view_name": "StyleView",
            "description_width": ""
          }
        },
        "1e3357a13e954cb794d9af14d7430149": {
          "model_module": "@jupyter-widgets/controls",
          "model_name": "HBoxModel",
          "model_module_version": "1.5.0",
          "state": {
            "_dom_classes": [],
            "_model_module": "@jupyter-widgets/controls",
            "_model_module_version": "1.5.0",
            "_model_name": "HBoxModel",
            "_view_count": null,
            "_view_module": "@jupyter-widgets/controls",
            "_view_module_version": "1.5.0",
            "_view_name": "HBoxView",
            "box_style": "",
            "children": [
              "IPY_MODEL_2ef9ce1d8cf242eea15494074fa1d9b3",
              "IPY_MODEL_b5b81ae9091c4b97991c66e809b9d5b7",
              "IPY_MODEL_77c5f7a0074c43ba9db4d316c5af7fdf"
            ],
            "layout": "IPY_MODEL_5ab42f5d11e44cb6a3206392713b1227"
          }
        },
        "2ef9ce1d8cf242eea15494074fa1d9b3": {
          "model_module": "@jupyter-widgets/controls",
          "model_name": "HTMLModel",
          "model_module_version": "1.5.0",
          "state": {
            "_dom_classes": [],
            "_model_module": "@jupyter-widgets/controls",
            "_model_module_version": "1.5.0",
            "_model_name": "HTMLModel",
            "_view_count": null,
            "_view_module": "@jupyter-widgets/controls",
            "_view_module_version": "1.5.0",
            "_view_name": "HTMLView",
            "description": "",
            "description_tooltip": null,
            "layout": "IPY_MODEL_be8f5d871fa94c849832c334112bb861",
            "placeholder": "​",
            "style": "IPY_MODEL_f28b61162f38421095653650f21d1ef3",
            "value": "100%"
          }
        },
        "b5b81ae9091c4b97991c66e809b9d5b7": {
          "model_module": "@jupyter-widgets/controls",
          "model_name": "FloatProgressModel",
          "model_module_version": "1.5.0",
          "state": {
            "_dom_classes": [],
            "_model_module": "@jupyter-widgets/controls",
            "_model_module_version": "1.5.0",
            "_model_name": "FloatProgressModel",
            "_view_count": null,
            "_view_module": "@jupyter-widgets/controls",
            "_view_module_version": "1.5.0",
            "_view_name": "ProgressView",
            "bar_style": "success",
            "description": "",
            "description_tooltip": null,
            "layout": "IPY_MODEL_d772cbe0a09a451bbb11f57eb51282c3",
            "max": 28881,
            "min": 0,
            "orientation": "horizontal",
            "style": "IPY_MODEL_f20b7645111148a5b5f6851a8179786f",
            "value": 28881
          }
        },
        "77c5f7a0074c43ba9db4d316c5af7fdf": {
          "model_module": "@jupyter-widgets/controls",
          "model_name": "HTMLModel",
          "model_module_version": "1.5.0",
          "state": {
            "_dom_classes": [],
            "_model_module": "@jupyter-widgets/controls",
            "_model_module_version": "1.5.0",
            "_model_name": "HTMLModel",
            "_view_count": null,
            "_view_module": "@jupyter-widgets/controls",
            "_view_module_version": "1.5.0",
            "_view_name": "HTMLView",
            "description": "",
            "description_tooltip": null,
            "layout": "IPY_MODEL_3369290057a34f0c8e71d5f20f1b210c",
            "placeholder": "​",
            "style": "IPY_MODEL_b11ef81d248246169cb333d7eb14e50b",
            "value": " 28881/28881 [00:00&lt;00:00, 1115378.61it/s]"
          }
        },
        "5ab42f5d11e44cb6a3206392713b1227": {
          "model_module": "@jupyter-widgets/base",
          "model_name": "LayoutModel",
          "model_module_version": "1.2.0",
          "state": {
            "_model_module": "@jupyter-widgets/base",
            "_model_module_version": "1.2.0",
            "_model_name": "LayoutModel",
            "_view_count": null,
            "_view_module": "@jupyter-widgets/base",
            "_view_module_version": "1.2.0",
            "_view_name": "LayoutView",
            "align_content": null,
            "align_items": null,
            "align_self": null,
            "border": null,
            "bottom": null,
            "display": null,
            "flex": null,
            "flex_flow": null,
            "grid_area": null,
            "grid_auto_columns": null,
            "grid_auto_flow": null,
            "grid_auto_rows": null,
            "grid_column": null,
            "grid_gap": null,
            "grid_row": null,
            "grid_template_areas": null,
            "grid_template_columns": null,
            "grid_template_rows": null,
            "height": null,
            "justify_content": null,
            "justify_items": null,
            "left": null,
            "margin": null,
            "max_height": null,
            "max_width": null,
            "min_height": null,
            "min_width": null,
            "object_fit": null,
            "object_position": null,
            "order": null,
            "overflow": null,
            "overflow_x": null,
            "overflow_y": null,
            "padding": null,
            "right": null,
            "top": null,
            "visibility": null,
            "width": null
          }
        },
        "be8f5d871fa94c849832c334112bb861": {
          "model_module": "@jupyter-widgets/base",
          "model_name": "LayoutModel",
          "model_module_version": "1.2.0",
          "state": {
            "_model_module": "@jupyter-widgets/base",
            "_model_module_version": "1.2.0",
            "_model_name": "LayoutModel",
            "_view_count": null,
            "_view_module": "@jupyter-widgets/base",
            "_view_module_version": "1.2.0",
            "_view_name": "LayoutView",
            "align_content": null,
            "align_items": null,
            "align_self": null,
            "border": null,
            "bottom": null,
            "display": null,
            "flex": null,
            "flex_flow": null,
            "grid_area": null,
            "grid_auto_columns": null,
            "grid_auto_flow": null,
            "grid_auto_rows": null,
            "grid_column": null,
            "grid_gap": null,
            "grid_row": null,
            "grid_template_areas": null,
            "grid_template_columns": null,
            "grid_template_rows": null,
            "height": null,
            "justify_content": null,
            "justify_items": null,
            "left": null,
            "margin": null,
            "max_height": null,
            "max_width": null,
            "min_height": null,
            "min_width": null,
            "object_fit": null,
            "object_position": null,
            "order": null,
            "overflow": null,
            "overflow_x": null,
            "overflow_y": null,
            "padding": null,
            "right": null,
            "top": null,
            "visibility": null,
            "width": null
          }
        },
        "f28b61162f38421095653650f21d1ef3": {
          "model_module": "@jupyter-widgets/controls",
          "model_name": "DescriptionStyleModel",
          "model_module_version": "1.5.0",
          "state": {
            "_model_module": "@jupyter-widgets/controls",
            "_model_module_version": "1.5.0",
            "_model_name": "DescriptionStyleModel",
            "_view_count": null,
            "_view_module": "@jupyter-widgets/base",
            "_view_module_version": "1.2.0",
            "_view_name": "StyleView",
            "description_width": ""
          }
        },
        "d772cbe0a09a451bbb11f57eb51282c3": {
          "model_module": "@jupyter-widgets/base",
          "model_name": "LayoutModel",
          "model_module_version": "1.2.0",
          "state": {
            "_model_module": "@jupyter-widgets/base",
            "_model_module_version": "1.2.0",
            "_model_name": "LayoutModel",
            "_view_count": null,
            "_view_module": "@jupyter-widgets/base",
            "_view_module_version": "1.2.0",
            "_view_name": "LayoutView",
            "align_content": null,
            "align_items": null,
            "align_self": null,
            "border": null,
            "bottom": null,
            "display": null,
            "flex": null,
            "flex_flow": null,
            "grid_area": null,
            "grid_auto_columns": null,
            "grid_auto_flow": null,
            "grid_auto_rows": null,
            "grid_column": null,
            "grid_gap": null,
            "grid_row": null,
            "grid_template_areas": null,
            "grid_template_columns": null,
            "grid_template_rows": null,
            "height": null,
            "justify_content": null,
            "justify_items": null,
            "left": null,
            "margin": null,
            "max_height": null,
            "max_width": null,
            "min_height": null,
            "min_width": null,
            "object_fit": null,
            "object_position": null,
            "order": null,
            "overflow": null,
            "overflow_x": null,
            "overflow_y": null,
            "padding": null,
            "right": null,
            "top": null,
            "visibility": null,
            "width": null
          }
        },
        "f20b7645111148a5b5f6851a8179786f": {
          "model_module": "@jupyter-widgets/controls",
          "model_name": "ProgressStyleModel",
          "model_module_version": "1.5.0",
          "state": {
            "_model_module": "@jupyter-widgets/controls",
            "_model_module_version": "1.5.0",
            "_model_name": "ProgressStyleModel",
            "_view_count": null,
            "_view_module": "@jupyter-widgets/base",
            "_view_module_version": "1.2.0",
            "_view_name": "StyleView",
            "bar_color": null,
            "description_width": ""
          }
        },
        "3369290057a34f0c8e71d5f20f1b210c": {
          "model_module": "@jupyter-widgets/base",
          "model_name": "LayoutModel",
          "model_module_version": "1.2.0",
          "state": {
            "_model_module": "@jupyter-widgets/base",
            "_model_module_version": "1.2.0",
            "_model_name": "LayoutModel",
            "_view_count": null,
            "_view_module": "@jupyter-widgets/base",
            "_view_module_version": "1.2.0",
            "_view_name": "LayoutView",
            "align_content": null,
            "align_items": null,
            "align_self": null,
            "border": null,
            "bottom": null,
            "display": null,
            "flex": null,
            "flex_flow": null,
            "grid_area": null,
            "grid_auto_columns": null,
            "grid_auto_flow": null,
            "grid_auto_rows": null,
            "grid_column": null,
            "grid_gap": null,
            "grid_row": null,
            "grid_template_areas": null,
            "grid_template_columns": null,
            "grid_template_rows": null,
            "height": null,
            "justify_content": null,
            "justify_items": null,
            "left": null,
            "margin": null,
            "max_height": null,
            "max_width": null,
            "min_height": null,
            "min_width": null,
            "object_fit": null,
            "object_position": null,
            "order": null,
            "overflow": null,
            "overflow_x": null,
            "overflow_y": null,
            "padding": null,
            "right": null,
            "top": null,
            "visibility": null,
            "width": null
          }
        },
        "b11ef81d248246169cb333d7eb14e50b": {
          "model_module": "@jupyter-widgets/controls",
          "model_name": "DescriptionStyleModel",
          "model_module_version": "1.5.0",
          "state": {
            "_model_module": "@jupyter-widgets/controls",
            "_model_module_version": "1.5.0",
            "_model_name": "DescriptionStyleModel",
            "_view_count": null,
            "_view_module": "@jupyter-widgets/base",
            "_view_module_version": "1.2.0",
            "_view_name": "StyleView",
            "description_width": ""
          }
        },
        "8069d06f822e4c089d93fd3630916436": {
          "model_module": "@jupyter-widgets/controls",
          "model_name": "HBoxModel",
          "model_module_version": "1.5.0",
          "state": {
            "_dom_classes": [],
            "_model_module": "@jupyter-widgets/controls",
            "_model_module_version": "1.5.0",
            "_model_name": "HBoxModel",
            "_view_count": null,
            "_view_module": "@jupyter-widgets/controls",
            "_view_module_version": "1.5.0",
            "_view_name": "HBoxView",
            "box_style": "",
            "children": [
              "IPY_MODEL_f973f0bb77a24150b05f8f8691938235",
              "IPY_MODEL_b1f76cf5b4294f0e9f017e4fa29725f1",
              "IPY_MODEL_c903a51b4d734ec2b6eacffeaedefe87"
            ],
            "layout": "IPY_MODEL_763fdefc59574b8885dbad9bd741a273"
          }
        },
        "f973f0bb77a24150b05f8f8691938235": {
          "model_module": "@jupyter-widgets/controls",
          "model_name": "HTMLModel",
          "model_module_version": "1.5.0",
          "state": {
            "_dom_classes": [],
            "_model_module": "@jupyter-widgets/controls",
            "_model_module_version": "1.5.0",
            "_model_name": "HTMLModel",
            "_view_count": null,
            "_view_module": "@jupyter-widgets/controls",
            "_view_module_version": "1.5.0",
            "_view_name": "HTMLView",
            "description": "",
            "description_tooltip": null,
            "layout": "IPY_MODEL_85fff734d85b422787d6f8afb059531a",
            "placeholder": "​",
            "style": "IPY_MODEL_71ef36151be742ab85a52ad965855c3b",
            "value": "100%"
          }
        },
        "b1f76cf5b4294f0e9f017e4fa29725f1": {
          "model_module": "@jupyter-widgets/controls",
          "model_name": "FloatProgressModel",
          "model_module_version": "1.5.0",
          "state": {
            "_dom_classes": [],
            "_model_module": "@jupyter-widgets/controls",
            "_model_module_version": "1.5.0",
            "_model_name": "FloatProgressModel",
            "_view_count": null,
            "_view_module": "@jupyter-widgets/controls",
            "_view_module_version": "1.5.0",
            "_view_name": "ProgressView",
            "bar_style": "success",
            "description": "",
            "description_tooltip": null,
            "layout": "IPY_MODEL_22c042aa8bd2407b8f39eba1f4a24647",
            "max": 1648877,
            "min": 0,
            "orientation": "horizontal",
            "style": "IPY_MODEL_c7fc9bae0ba243aca087c138f9803831",
            "value": 1648877
          }
        },
        "c903a51b4d734ec2b6eacffeaedefe87": {
          "model_module": "@jupyter-widgets/controls",
          "model_name": "HTMLModel",
          "model_module_version": "1.5.0",
          "state": {
            "_dom_classes": [],
            "_model_module": "@jupyter-widgets/controls",
            "_model_module_version": "1.5.0",
            "_model_name": "HTMLModel",
            "_view_count": null,
            "_view_module": "@jupyter-widgets/controls",
            "_view_module_version": "1.5.0",
            "_view_name": "HTMLView",
            "description": "",
            "description_tooltip": null,
            "layout": "IPY_MODEL_a3c66bf1da414cd3865fec61e9198150",
            "placeholder": "​",
            "style": "IPY_MODEL_f17fa29c78f7474eb6cc3a4c28ef2688",
            "value": " 1648877/1648877 [00:00&lt;00:00, 23151364.62it/s]"
          }
        },
        "763fdefc59574b8885dbad9bd741a273": {
          "model_module": "@jupyter-widgets/base",
          "model_name": "LayoutModel",
          "model_module_version": "1.2.0",
          "state": {
            "_model_module": "@jupyter-widgets/base",
            "_model_module_version": "1.2.0",
            "_model_name": "LayoutModel",
            "_view_count": null,
            "_view_module": "@jupyter-widgets/base",
            "_view_module_version": "1.2.0",
            "_view_name": "LayoutView",
            "align_content": null,
            "align_items": null,
            "align_self": null,
            "border": null,
            "bottom": null,
            "display": null,
            "flex": null,
            "flex_flow": null,
            "grid_area": null,
            "grid_auto_columns": null,
            "grid_auto_flow": null,
            "grid_auto_rows": null,
            "grid_column": null,
            "grid_gap": null,
            "grid_row": null,
            "grid_template_areas": null,
            "grid_template_columns": null,
            "grid_template_rows": null,
            "height": null,
            "justify_content": null,
            "justify_items": null,
            "left": null,
            "margin": null,
            "max_height": null,
            "max_width": null,
            "min_height": null,
            "min_width": null,
            "object_fit": null,
            "object_position": null,
            "order": null,
            "overflow": null,
            "overflow_x": null,
            "overflow_y": null,
            "padding": null,
            "right": null,
            "top": null,
            "visibility": null,
            "width": null
          }
        },
        "85fff734d85b422787d6f8afb059531a": {
          "model_module": "@jupyter-widgets/base",
          "model_name": "LayoutModel",
          "model_module_version": "1.2.0",
          "state": {
            "_model_module": "@jupyter-widgets/base",
            "_model_module_version": "1.2.0",
            "_model_name": "LayoutModel",
            "_view_count": null,
            "_view_module": "@jupyter-widgets/base",
            "_view_module_version": "1.2.0",
            "_view_name": "LayoutView",
            "align_content": null,
            "align_items": null,
            "align_self": null,
            "border": null,
            "bottom": null,
            "display": null,
            "flex": null,
            "flex_flow": null,
            "grid_area": null,
            "grid_auto_columns": null,
            "grid_auto_flow": null,
            "grid_auto_rows": null,
            "grid_column": null,
            "grid_gap": null,
            "grid_row": null,
            "grid_template_areas": null,
            "grid_template_columns": null,
            "grid_template_rows": null,
            "height": null,
            "justify_content": null,
            "justify_items": null,
            "left": null,
            "margin": null,
            "max_height": null,
            "max_width": null,
            "min_height": null,
            "min_width": null,
            "object_fit": null,
            "object_position": null,
            "order": null,
            "overflow": null,
            "overflow_x": null,
            "overflow_y": null,
            "padding": null,
            "right": null,
            "top": null,
            "visibility": null,
            "width": null
          }
        },
        "71ef36151be742ab85a52ad965855c3b": {
          "model_module": "@jupyter-widgets/controls",
          "model_name": "DescriptionStyleModel",
          "model_module_version": "1.5.0",
          "state": {
            "_model_module": "@jupyter-widgets/controls",
            "_model_module_version": "1.5.0",
            "_model_name": "DescriptionStyleModel",
            "_view_count": null,
            "_view_module": "@jupyter-widgets/base",
            "_view_module_version": "1.2.0",
            "_view_name": "StyleView",
            "description_width": ""
          }
        },
        "22c042aa8bd2407b8f39eba1f4a24647": {
          "model_module": "@jupyter-widgets/base",
          "model_name": "LayoutModel",
          "model_module_version": "1.2.0",
          "state": {
            "_model_module": "@jupyter-widgets/base",
            "_model_module_version": "1.2.0",
            "_model_name": "LayoutModel",
            "_view_count": null,
            "_view_module": "@jupyter-widgets/base",
            "_view_module_version": "1.2.0",
            "_view_name": "LayoutView",
            "align_content": null,
            "align_items": null,
            "align_self": null,
            "border": null,
            "bottom": null,
            "display": null,
            "flex": null,
            "flex_flow": null,
            "grid_area": null,
            "grid_auto_columns": null,
            "grid_auto_flow": null,
            "grid_auto_rows": null,
            "grid_column": null,
            "grid_gap": null,
            "grid_row": null,
            "grid_template_areas": null,
            "grid_template_columns": null,
            "grid_template_rows": null,
            "height": null,
            "justify_content": null,
            "justify_items": null,
            "left": null,
            "margin": null,
            "max_height": null,
            "max_width": null,
            "min_height": null,
            "min_width": null,
            "object_fit": null,
            "object_position": null,
            "order": null,
            "overflow": null,
            "overflow_x": null,
            "overflow_y": null,
            "padding": null,
            "right": null,
            "top": null,
            "visibility": null,
            "width": null
          }
        },
        "c7fc9bae0ba243aca087c138f9803831": {
          "model_module": "@jupyter-widgets/controls",
          "model_name": "ProgressStyleModel",
          "model_module_version": "1.5.0",
          "state": {
            "_model_module": "@jupyter-widgets/controls",
            "_model_module_version": "1.5.0",
            "_model_name": "ProgressStyleModel",
            "_view_count": null,
            "_view_module": "@jupyter-widgets/base",
            "_view_module_version": "1.2.0",
            "_view_name": "StyleView",
            "bar_color": null,
            "description_width": ""
          }
        },
        "a3c66bf1da414cd3865fec61e9198150": {
          "model_module": "@jupyter-widgets/base",
          "model_name": "LayoutModel",
          "model_module_version": "1.2.0",
          "state": {
            "_model_module": "@jupyter-widgets/base",
            "_model_module_version": "1.2.0",
            "_model_name": "LayoutModel",
            "_view_count": null,
            "_view_module": "@jupyter-widgets/base",
            "_view_module_version": "1.2.0",
            "_view_name": "LayoutView",
            "align_content": null,
            "align_items": null,
            "align_self": null,
            "border": null,
            "bottom": null,
            "display": null,
            "flex": null,
            "flex_flow": null,
            "grid_area": null,
            "grid_auto_columns": null,
            "grid_auto_flow": null,
            "grid_auto_rows": null,
            "grid_column": null,
            "grid_gap": null,
            "grid_row": null,
            "grid_template_areas": null,
            "grid_template_columns": null,
            "grid_template_rows": null,
            "height": null,
            "justify_content": null,
            "justify_items": null,
            "left": null,
            "margin": null,
            "max_height": null,
            "max_width": null,
            "min_height": null,
            "min_width": null,
            "object_fit": null,
            "object_position": null,
            "order": null,
            "overflow": null,
            "overflow_x": null,
            "overflow_y": null,
            "padding": null,
            "right": null,
            "top": null,
            "visibility": null,
            "width": null
          }
        },
        "f17fa29c78f7474eb6cc3a4c28ef2688": {
          "model_module": "@jupyter-widgets/controls",
          "model_name": "DescriptionStyleModel",
          "model_module_version": "1.5.0",
          "state": {
            "_model_module": "@jupyter-widgets/controls",
            "_model_module_version": "1.5.0",
            "_model_name": "DescriptionStyleModel",
            "_view_count": null,
            "_view_module": "@jupyter-widgets/base",
            "_view_module_version": "1.2.0",
            "_view_name": "StyleView",
            "description_width": ""
          }
        },
        "6c1402291ee6457395f9c57c7a1b1879": {
          "model_module": "@jupyter-widgets/controls",
          "model_name": "HBoxModel",
          "model_module_version": "1.5.0",
          "state": {
            "_dom_classes": [],
            "_model_module": "@jupyter-widgets/controls",
            "_model_module_version": "1.5.0",
            "_model_name": "HBoxModel",
            "_view_count": null,
            "_view_module": "@jupyter-widgets/controls",
            "_view_module_version": "1.5.0",
            "_view_name": "HBoxView",
            "box_style": "",
            "children": [
              "IPY_MODEL_a3f206bbdca5419d8fa0eaaa857d6141",
              "IPY_MODEL_4a76435cdf3f4043994030db53307ef2",
              "IPY_MODEL_2a1aa0c194d34fa0acfc9db5c71ad7e6"
            ],
            "layout": "IPY_MODEL_df14db4dc27648c6b539218b24fe3da4"
          }
        },
        "a3f206bbdca5419d8fa0eaaa857d6141": {
          "model_module": "@jupyter-widgets/controls",
          "model_name": "HTMLModel",
          "model_module_version": "1.5.0",
          "state": {
            "_dom_classes": [],
            "_model_module": "@jupyter-widgets/controls",
            "_model_module_version": "1.5.0",
            "_model_name": "HTMLModel",
            "_view_count": null,
            "_view_module": "@jupyter-widgets/controls",
            "_view_module_version": "1.5.0",
            "_view_name": "HTMLView",
            "description": "",
            "description_tooltip": null,
            "layout": "IPY_MODEL_31c6b15d5661455da031599655e66470",
            "placeholder": "​",
            "style": "IPY_MODEL_60915470b1804b5bbf5fe528509f909d",
            "value": "100%"
          }
        },
        "4a76435cdf3f4043994030db53307ef2": {
          "model_module": "@jupyter-widgets/controls",
          "model_name": "FloatProgressModel",
          "model_module_version": "1.5.0",
          "state": {
            "_dom_classes": [],
            "_model_module": "@jupyter-widgets/controls",
            "_model_module_version": "1.5.0",
            "_model_name": "FloatProgressModel",
            "_view_count": null,
            "_view_module": "@jupyter-widgets/controls",
            "_view_module_version": "1.5.0",
            "_view_name": "ProgressView",
            "bar_style": "success",
            "description": "",
            "description_tooltip": null,
            "layout": "IPY_MODEL_68be7d204c6b446f8f22e235201cb64b",
            "max": 4542,
            "min": 0,
            "orientation": "horizontal",
            "style": "IPY_MODEL_faf53a2d87114f66bdd181ef52bfddc2",
            "value": 4542
          }
        },
        "2a1aa0c194d34fa0acfc9db5c71ad7e6": {
          "model_module": "@jupyter-widgets/controls",
          "model_name": "HTMLModel",
          "model_module_version": "1.5.0",
          "state": {
            "_dom_classes": [],
            "_model_module": "@jupyter-widgets/controls",
            "_model_module_version": "1.5.0",
            "_model_name": "HTMLModel",
            "_view_count": null,
            "_view_module": "@jupyter-widgets/controls",
            "_view_module_version": "1.5.0",
            "_view_name": "HTMLView",
            "description": "",
            "description_tooltip": null,
            "layout": "IPY_MODEL_242ca09ef3ca4384a8d1e647127bd99f",
            "placeholder": "​",
            "style": "IPY_MODEL_8e171fb98f8244d7aed3f27657b80992",
            "value": " 4542/4542 [00:00&lt;00:00, 216796.16it/s]"
          }
        },
        "df14db4dc27648c6b539218b24fe3da4": {
          "model_module": "@jupyter-widgets/base",
          "model_name": "LayoutModel",
          "model_module_version": "1.2.0",
          "state": {
            "_model_module": "@jupyter-widgets/base",
            "_model_module_version": "1.2.0",
            "_model_name": "LayoutModel",
            "_view_count": null,
            "_view_module": "@jupyter-widgets/base",
            "_view_module_version": "1.2.0",
            "_view_name": "LayoutView",
            "align_content": null,
            "align_items": null,
            "align_self": null,
            "border": null,
            "bottom": null,
            "display": null,
            "flex": null,
            "flex_flow": null,
            "grid_area": null,
            "grid_auto_columns": null,
            "grid_auto_flow": null,
            "grid_auto_rows": null,
            "grid_column": null,
            "grid_gap": null,
            "grid_row": null,
            "grid_template_areas": null,
            "grid_template_columns": null,
            "grid_template_rows": null,
            "height": null,
            "justify_content": null,
            "justify_items": null,
            "left": null,
            "margin": null,
            "max_height": null,
            "max_width": null,
            "min_height": null,
            "min_width": null,
            "object_fit": null,
            "object_position": null,
            "order": null,
            "overflow": null,
            "overflow_x": null,
            "overflow_y": null,
            "padding": null,
            "right": null,
            "top": null,
            "visibility": null,
            "width": null
          }
        },
        "31c6b15d5661455da031599655e66470": {
          "model_module": "@jupyter-widgets/base",
          "model_name": "LayoutModel",
          "model_module_version": "1.2.0",
          "state": {
            "_model_module": "@jupyter-widgets/base",
            "_model_module_version": "1.2.0",
            "_model_name": "LayoutModel",
            "_view_count": null,
            "_view_module": "@jupyter-widgets/base",
            "_view_module_version": "1.2.0",
            "_view_name": "LayoutView",
            "align_content": null,
            "align_items": null,
            "align_self": null,
            "border": null,
            "bottom": null,
            "display": null,
            "flex": null,
            "flex_flow": null,
            "grid_area": null,
            "grid_auto_columns": null,
            "grid_auto_flow": null,
            "grid_auto_rows": null,
            "grid_column": null,
            "grid_gap": null,
            "grid_row": null,
            "grid_template_areas": null,
            "grid_template_columns": null,
            "grid_template_rows": null,
            "height": null,
            "justify_content": null,
            "justify_items": null,
            "left": null,
            "margin": null,
            "max_height": null,
            "max_width": null,
            "min_height": null,
            "min_width": null,
            "object_fit": null,
            "object_position": null,
            "order": null,
            "overflow": null,
            "overflow_x": null,
            "overflow_y": null,
            "padding": null,
            "right": null,
            "top": null,
            "visibility": null,
            "width": null
          }
        },
        "60915470b1804b5bbf5fe528509f909d": {
          "model_module": "@jupyter-widgets/controls",
          "model_name": "DescriptionStyleModel",
          "model_module_version": "1.5.0",
          "state": {
            "_model_module": "@jupyter-widgets/controls",
            "_model_module_version": "1.5.0",
            "_model_name": "DescriptionStyleModel",
            "_view_count": null,
            "_view_module": "@jupyter-widgets/base",
            "_view_module_version": "1.2.0",
            "_view_name": "StyleView",
            "description_width": ""
          }
        },
        "68be7d204c6b446f8f22e235201cb64b": {
          "model_module": "@jupyter-widgets/base",
          "model_name": "LayoutModel",
          "model_module_version": "1.2.0",
          "state": {
            "_model_module": "@jupyter-widgets/base",
            "_model_module_version": "1.2.0",
            "_model_name": "LayoutModel",
            "_view_count": null,
            "_view_module": "@jupyter-widgets/base",
            "_view_module_version": "1.2.0",
            "_view_name": "LayoutView",
            "align_content": null,
            "align_items": null,
            "align_self": null,
            "border": null,
            "bottom": null,
            "display": null,
            "flex": null,
            "flex_flow": null,
            "grid_area": null,
            "grid_auto_columns": null,
            "grid_auto_flow": null,
            "grid_auto_rows": null,
            "grid_column": null,
            "grid_gap": null,
            "grid_row": null,
            "grid_template_areas": null,
            "grid_template_columns": null,
            "grid_template_rows": null,
            "height": null,
            "justify_content": null,
            "justify_items": null,
            "left": null,
            "margin": null,
            "max_height": null,
            "max_width": null,
            "min_height": null,
            "min_width": null,
            "object_fit": null,
            "object_position": null,
            "order": null,
            "overflow": null,
            "overflow_x": null,
            "overflow_y": null,
            "padding": null,
            "right": null,
            "top": null,
            "visibility": null,
            "width": null
          }
        },
        "faf53a2d87114f66bdd181ef52bfddc2": {
          "model_module": "@jupyter-widgets/controls",
          "model_name": "ProgressStyleModel",
          "model_module_version": "1.5.0",
          "state": {
            "_model_module": "@jupyter-widgets/controls",
            "_model_module_version": "1.5.0",
            "_model_name": "ProgressStyleModel",
            "_view_count": null,
            "_view_module": "@jupyter-widgets/base",
            "_view_module_version": "1.2.0",
            "_view_name": "StyleView",
            "bar_color": null,
            "description_width": ""
          }
        },
        "242ca09ef3ca4384a8d1e647127bd99f": {
          "model_module": "@jupyter-widgets/base",
          "model_name": "LayoutModel",
          "model_module_version": "1.2.0",
          "state": {
            "_model_module": "@jupyter-widgets/base",
            "_model_module_version": "1.2.0",
            "_model_name": "LayoutModel",
            "_view_count": null,
            "_view_module": "@jupyter-widgets/base",
            "_view_module_version": "1.2.0",
            "_view_name": "LayoutView",
            "align_content": null,
            "align_items": null,
            "align_self": null,
            "border": null,
            "bottom": null,
            "display": null,
            "flex": null,
            "flex_flow": null,
            "grid_area": null,
            "grid_auto_columns": null,
            "grid_auto_flow": null,
            "grid_auto_rows": null,
            "grid_column": null,
            "grid_gap": null,
            "grid_row": null,
            "grid_template_areas": null,
            "grid_template_columns": null,
            "grid_template_rows": null,
            "height": null,
            "justify_content": null,
            "justify_items": null,
            "left": null,
            "margin": null,
            "max_height": null,
            "max_width": null,
            "min_height": null,
            "min_width": null,
            "object_fit": null,
            "object_position": null,
            "order": null,
            "overflow": null,
            "overflow_x": null,
            "overflow_y": null,
            "padding": null,
            "right": null,
            "top": null,
            "visibility": null,
            "width": null
          }
        },
        "8e171fb98f8244d7aed3f27657b80992": {
          "model_module": "@jupyter-widgets/controls",
          "model_name": "DescriptionStyleModel",
          "model_module_version": "1.5.0",
          "state": {
            "_model_module": "@jupyter-widgets/controls",
            "_model_module_version": "1.5.0",
            "_model_name": "DescriptionStyleModel",
            "_view_count": null,
            "_view_module": "@jupyter-widgets/base",
            "_view_module_version": "1.2.0",
            "_view_name": "StyleView",
            "description_width": ""
          }
        }
      }
    }
  },
  "cells": [
    {
      "cell_type": "markdown",
      "source": [
        "# Pytorch Tutorial \n",
        "Prepared by: Shayan Vassef, Email: sh.vassef\n",
        "\n",
        "\n",
        "\n",
        "\n",
        "\n",
        "![Pytorch](https://drive.google.com/uc?export=view&id=14HmbCV22D052ywxAyu5j3vu1DUnrlqLj)"
      ],
      "metadata": {
        "id": "1Ay1mOL2bchU"
      }
    },
    {
      "cell_type": "code",
      "source": [
        "!pip install torch"
      ],
      "metadata": {
        "colab": {
          "base_uri": "https://localhost:8080/"
        },
        "id": "BbSUxc9VljbM",
        "outputId": "86cdb749-77ce-4336-f711-a20a5dd1ef84"
      },
      "execution_count": null,
      "outputs": [
        {
          "output_type": "stream",
          "name": "stdout",
          "text": [
            "Looking in indexes: https://pypi.org/simple, https://us-python.pkg.dev/colab-wheels/public/simple/\n",
            "Requirement already satisfied: torch in /usr/local/lib/python3.8/dist-packages (1.13.0+cu116)\n",
            "Requirement already satisfied: typing-extensions in /usr/local/lib/python3.8/dist-packages (from torch) (4.4.0)\n"
          ]
        }
      ]
    },
    {
      "cell_type": "markdown",
      "source": [
        "# **Pytorch Basics**"
      ],
      "metadata": {
        "id": "MvgcgpigQNiG"
      }
    },
    {
      "cell_type": "code",
      "execution_count": null,
      "metadata": {
        "id": "qm97bTAQEQpg"
      },
      "outputs": [],
      "source": [
        "import torch"
      ]
    },
    {
      "cell_type": "code",
      "source": [
        "x = torch.tensor([1,2,3])\n",
        "x"
      ],
      "metadata": {
        "colab": {
          "base_uri": "https://localhost:8080/"
        },
        "id": "rBexPvQdESJ6",
        "outputId": "0bbaa23b-f377-4d21-b446-8ccb9a3c58d4"
      },
      "execution_count": null,
      "outputs": [
        {
          "output_type": "execute_result",
          "data": {
            "text/plain": [
              "tensor([1, 2, 3])"
            ]
          },
          "metadata": {},
          "execution_count": 3
        }
      ]
    },
    {
      "cell_type": "code",
      "source": [
        "x = torch.rand(3)\n",
        "x"
      ],
      "metadata": {
        "colab": {
          "base_uri": "https://localhost:8080/"
        },
        "id": "nUBFm9T-EbCG",
        "outputId": "cb8f61b9-2d33-4f26-bee3-3a0f19bd48cc"
      },
      "execution_count": null,
      "outputs": [
        {
          "output_type": "execute_result",
          "data": {
            "text/plain": [
              "tensor([0.4595, 0.7038, 0.1954])"
            ]
          },
          "metadata": {},
          "execution_count": 4
        }
      ]
    },
    {
      "cell_type": "code",
      "source": [
        "x = torch.rand(3,5,dtype=torch.float16)\n",
        "x"
      ],
      "metadata": {
        "colab": {
          "base_uri": "https://localhost:8080/"
        },
        "id": "gd_d9mCREi57",
        "outputId": "97eff3f4-d973-436d-dee3-a86f3b3c371e"
      },
      "execution_count": null,
      "outputs": [
        {
          "output_type": "execute_result",
          "data": {
            "text/plain": [
              "tensor([[0.3813, 0.1470, 0.7236, 0.1143, 0.7983],\n",
              "        [0.9834, 0.0015, 0.8564, 0.5391, 0.5967],\n",
              "        [0.8579, 0.0381, 0.7275, 0.2676, 0.9385]], dtype=torch.float16)"
            ]
          },
          "metadata": {},
          "execution_count": 5
        }
      ]
    },
    {
      "cell_type": "code",
      "source": [
        "from torch._C import dtype\n",
        "import numpy as np\n",
        "arr = np.random.randn(3,4)\n",
        "x = torch.from_numpy(arr)\n",
        "x"
      ],
      "metadata": {
        "colab": {
          "base_uri": "https://localhost:8080/"
        },
        "id": "siZp2XntEnlX",
        "outputId": "6bd268c5-0998-4ad9-cdbc-c6171f40962f"
      },
      "execution_count": null,
      "outputs": [
        {
          "output_type": "execute_result",
          "data": {
            "text/plain": [
              "tensor([[-1.0008, -1.0003,  0.4646, -0.4147],\n",
              "        [-1.6396, -0.5620,  0.0696,  1.3053],\n",
              "        [-2.6480, -0.6226,  1.0265,  1.7258]], dtype=torch.float64)"
            ]
          },
          "metadata": {},
          "execution_count": 6
        }
      ]
    },
    {
      "cell_type": "code",
      "source": [
        "x.type(torch.float16) "
      ],
      "metadata": {
        "colab": {
          "base_uri": "https://localhost:8080/"
        },
        "id": "7QdGFOe2Ex-1",
        "outputId": "332f3e19-b9ff-42c6-e41d-479870f63ea7"
      },
      "execution_count": null,
      "outputs": [
        {
          "output_type": "execute_result",
          "data": {
            "text/plain": [
              "tensor([[-1.0010, -1.0000,  0.4646, -0.4148],\n",
              "        [-1.6396, -0.5620,  0.0696,  1.3057],\n",
              "        [-2.6484, -0.6226,  1.0264,  1.7256]], dtype=torch.float16)"
            ]
          },
          "metadata": {},
          "execution_count": 7
        }
      ]
    },
    {
      "cell_type": "code",
      "source": [
        "x = torch.rand(3)\n",
        "print(x)\n",
        "y = torch.ones(3)\n",
        "x.add(y)"
      ],
      "metadata": {
        "colab": {
          "base_uri": "https://localhost:8080/"
        },
        "id": "qMxN4zwBFTmf",
        "outputId": "14213ca5-9ded-4e0e-823e-30334a32f6b3"
      },
      "execution_count": null,
      "outputs": [
        {
          "output_type": "stream",
          "name": "stdout",
          "text": [
            "tensor([0.7126, 0.3163, 0.3549])\n"
          ]
        },
        {
          "output_type": "execute_result",
          "data": {
            "text/plain": [
              "tensor([1.7126, 1.3163, 1.3549])"
            ]
          },
          "metadata": {},
          "execution_count": 8
        }
      ]
    },
    {
      "cell_type": "code",
      "source": [
        "x.add_(y)"
      ],
      "metadata": {
        "colab": {
          "base_uri": "https://localhost:8080/"
        },
        "id": "xiMB9nnNGqD-",
        "outputId": "f3633e76-d80f-42a2-ae37-cd12065c5840"
      },
      "execution_count": null,
      "outputs": [
        {
          "output_type": "execute_result",
          "data": {
            "text/plain": [
              "tensor([1.7126, 1.3163, 1.3549])"
            ]
          },
          "metadata": {},
          "execution_count": 9
        }
      ]
    },
    {
      "cell_type": "code",
      "source": [
        "x =  torch.empty(3,5)\n",
        "print(x)\n",
        "x.view(-1,3)"
      ],
      "metadata": {
        "colab": {
          "base_uri": "https://localhost:8080/"
        },
        "id": "ZA31D4qDGwx2",
        "outputId": "d42675ce-98f0-4ab1-baeb-6f76f3f02edf"
      },
      "execution_count": null,
      "outputs": [
        {
          "output_type": "stream",
          "name": "stdout",
          "text": [
            "tensor([[4.2350e-34, 0.0000e+00, 3.5032e-44, 0.0000e+00,        nan],\n",
            "        [1.6775e+00, 1.1578e+27, 7.1463e+22, 4.6241e+30, 1.0552e+24],\n",
            "        [5.5757e-02, 1.8728e+31, 5.9571e-02, 7.0374e+22, 2.7558e-09]])\n"
          ]
        },
        {
          "output_type": "execute_result",
          "data": {
            "text/plain": [
              "tensor([[4.2350e-34, 0.0000e+00, 3.5032e-44],\n",
              "        [0.0000e+00,        nan, 1.6775e+00],\n",
              "        [1.1578e+27, 7.1463e+22, 4.6241e+30],\n",
              "        [1.0552e+24, 5.5757e-02, 1.8728e+31],\n",
              "        [5.9571e-02, 7.0374e+22, 2.7558e-09]])"
            ]
          },
          "metadata": {},
          "execution_count": 10
        }
      ]
    },
    {
      "cell_type": "code",
      "source": [
        "# first, change the runtime to gpu\n",
        "if torch.cuda.is_available():\n",
        "  device = 'cuda' #torch.device(\"cuda\")\n",
        "  x = torch.ones(5, device = device)\n",
        "  # or\n",
        "  y = torch.rand(5).to(device)\n",
        "  z = x + y\n",
        "  print(z)\n",
        "  # return back to cpu\n",
        "  print(z.to(\"cpu\").numpy()) # produce an error\n",
        "  "
      ],
      "metadata": {
        "id": "v_8XkVWaG3nY",
        "colab": {
          "base_uri": "https://localhost:8080/"
        },
        "outputId": "f45790d3-d2af-42be-caae-0c1b15b2e637"
      },
      "execution_count": null,
      "outputs": [
        {
          "output_type": "stream",
          "name": "stdout",
          "text": [
            "tensor([1.2063, 1.1087, 1.1052, 1.3392, 1.5358], device='cuda:0')\n",
            "[1.2062893 1.1086557 1.1052477 1.3392262 1.5358253]\n"
          ]
        }
      ]
    },
    {
      "cell_type": "markdown",
      "source": [
        "# **Gradient**"
      ],
      "metadata": {
        "id": "qH9Tb-3aQS0V"
      }
    },
    {
      "cell_type": "markdown",
      "source": [
        "## Vector differentiation"
      ],
      "metadata": {
        "id": "BXJgB9o9GJHS"
      }
    },
    {
      "cell_type": "markdown",
      "source": [
        "![part1](https://drive.google.com/uc?export=view&id=1u2dcTLn2v5kNH4fy0sK910GLUPiWTUgL)\n",
        "\n",
        "![part2](https://drive.google.com/uc?export=view&id=1Ynr_vXxLqsB5g6f0kHn40eXsvvkmsNr0)"
      ],
      "metadata": {
        "id": "KsyGYDrtBuVV"
      }
    },
    {
      "cell_type": "markdown",
      "source": [
        "## 1*1 tensor"
      ],
      "metadata": {
        "id": "ncKhaosTRosm"
      }
    },
    {
      "cell_type": "markdown",
      "source": [
        "Z = z(1,3) * I(3,1)\n",
        "D Z / D x = D (z(1,3) * I(3,1))/ D x = D z / D x * I"
      ],
      "metadata": {
        "id": "wvGgMStErglq"
      }
    },
    {
      "cell_type": "code",
      "source": [
        "x = torch.rand(3,requires_grad=True)\n",
        "print(x)\n",
        "y = x + 2\n",
        "z= 2 * y**2\n",
        "z = z.mean() \n",
        "z"
      ],
      "metadata": {
        "colab": {
          "base_uri": "https://localhost:8080/"
        },
        "id": "xi2Y8EAmQYaI",
        "outputId": "c05f3f90-0871-40e6-a51f-34c70359a56a"
      },
      "execution_count": null,
      "outputs": [
        {
          "output_type": "stream",
          "name": "stdout",
          "text": [
            "tensor([0.5348, 0.8765, 0.3493], requires_grad=True)\n"
          ]
        },
        {
          "output_type": "execute_result",
          "data": {
            "text/plain": [
              "tensor(13.4789, grad_fn=<MeanBackward0>)"
            ]
          },
          "metadata": {},
          "execution_count": 11
        }
      ]
    },
    {
      "cell_type": "code",
      "source": [
        "z.backward() # Calculate dz/dx"
      ],
      "metadata": {
        "id": "-xQ0xf89RDHh"
      },
      "execution_count": null,
      "outputs": []
    },
    {
      "cell_type": "code",
      "source": [
        "x.grad"
      ],
      "metadata": {
        "colab": {
          "base_uri": "https://localhost:8080/"
        },
        "id": "Uoox5HE-RHuj",
        "outputId": "6fe19f7f-0531-4fa5-913b-df0979d4bdfb"
      },
      "execution_count": null,
      "outputs": [
        {
          "output_type": "execute_result",
          "data": {
            "text/plain": [
              "tensor([3.3797, 3.8353, 3.1324])"
            ]
          },
          "metadata": {},
          "execution_count": 13
        }
      ]
    },
    {
      "cell_type": "code",
      "source": [
        "x = torch.rand(3,requires_grad=True)\n",
        "y = x + 2\n",
        "z= 2 * y**2\n",
        "\n",
        "z.backward()"
      ],
      "metadata": {
        "colab": {
          "base_uri": "https://localhost:8080/",
          "height": 345
        },
        "id": "5zJMGjx8RKow",
        "outputId": "ac93e190-3d3a-4566-e5b5-0b8171c952cc"
      },
      "execution_count": null,
      "outputs": [
        {
          "output_type": "error",
          "ename": "RuntimeError",
          "evalue": "ignored",
          "traceback": [
            "\u001b[0;31m---------------------------------------------------------------------------\u001b[0m",
            "\u001b[0;31mRuntimeError\u001b[0m                              Traceback (most recent call last)",
            "\u001b[0;32m<ipython-input-14-c770a8d8474d>\u001b[0m in \u001b[0;36m<module>\u001b[0;34m\u001b[0m\n\u001b[1;32m      3\u001b[0m \u001b[0mz\u001b[0m\u001b[0;34m=\u001b[0m \u001b[0;36m2\u001b[0m \u001b[0;34m*\u001b[0m \u001b[0my\u001b[0m\u001b[0;34m**\u001b[0m\u001b[0;36m2\u001b[0m\u001b[0;34m\u001b[0m\u001b[0;34m\u001b[0m\u001b[0m\n\u001b[1;32m      4\u001b[0m \u001b[0;34m\u001b[0m\u001b[0m\n\u001b[0;32m----> 5\u001b[0;31m \u001b[0mz\u001b[0m\u001b[0;34m.\u001b[0m\u001b[0mbackward\u001b[0m\u001b[0;34m(\u001b[0m\u001b[0;34m)\u001b[0m\u001b[0;34m\u001b[0m\u001b[0;34m\u001b[0m\u001b[0m\n\u001b[0m",
            "\u001b[0;32m/usr/local/lib/python3.8/dist-packages/torch/_tensor.py\u001b[0m in \u001b[0;36mbackward\u001b[0;34m(self, gradient, retain_graph, create_graph, inputs)\u001b[0m\n\u001b[1;32m    485\u001b[0m                 \u001b[0minputs\u001b[0m\u001b[0;34m=\u001b[0m\u001b[0minputs\u001b[0m\u001b[0;34m,\u001b[0m\u001b[0;34m\u001b[0m\u001b[0;34m\u001b[0m\u001b[0m\n\u001b[1;32m    486\u001b[0m             )\n\u001b[0;32m--> 487\u001b[0;31m         torch.autograd.backward(\n\u001b[0m\u001b[1;32m    488\u001b[0m             \u001b[0mself\u001b[0m\u001b[0;34m,\u001b[0m \u001b[0mgradient\u001b[0m\u001b[0;34m,\u001b[0m \u001b[0mretain_graph\u001b[0m\u001b[0;34m,\u001b[0m \u001b[0mcreate_graph\u001b[0m\u001b[0;34m,\u001b[0m \u001b[0minputs\u001b[0m\u001b[0;34m=\u001b[0m\u001b[0minputs\u001b[0m\u001b[0;34m\u001b[0m\u001b[0;34m\u001b[0m\u001b[0m\n\u001b[1;32m    489\u001b[0m         )\n",
            "\u001b[0;32m/usr/local/lib/python3.8/dist-packages/torch/autograd/__init__.py\u001b[0m in \u001b[0;36mbackward\u001b[0;34m(tensors, grad_tensors, retain_graph, create_graph, grad_variables, inputs)\u001b[0m\n\u001b[1;32m    188\u001b[0m \u001b[0;34m\u001b[0m\u001b[0m\n\u001b[1;32m    189\u001b[0m     \u001b[0mgrad_tensors_\u001b[0m \u001b[0;34m=\u001b[0m \u001b[0m_tensor_or_tensors_to_tuple\u001b[0m\u001b[0;34m(\u001b[0m\u001b[0mgrad_tensors\u001b[0m\u001b[0;34m,\u001b[0m \u001b[0mlen\u001b[0m\u001b[0;34m(\u001b[0m\u001b[0mtensors\u001b[0m\u001b[0;34m)\u001b[0m\u001b[0;34m)\u001b[0m\u001b[0;34m\u001b[0m\u001b[0;34m\u001b[0m\u001b[0m\n\u001b[0;32m--> 190\u001b[0;31m     \u001b[0mgrad_tensors_\u001b[0m \u001b[0;34m=\u001b[0m \u001b[0m_make_grads\u001b[0m\u001b[0;34m(\u001b[0m\u001b[0mtensors\u001b[0m\u001b[0;34m,\u001b[0m \u001b[0mgrad_tensors_\u001b[0m\u001b[0;34m,\u001b[0m \u001b[0mis_grads_batched\u001b[0m\u001b[0;34m=\u001b[0m\u001b[0;32mFalse\u001b[0m\u001b[0;34m)\u001b[0m\u001b[0;34m\u001b[0m\u001b[0;34m\u001b[0m\u001b[0m\n\u001b[0m\u001b[1;32m    191\u001b[0m     \u001b[0;32mif\u001b[0m \u001b[0mretain_graph\u001b[0m \u001b[0;32mis\u001b[0m \u001b[0;32mNone\u001b[0m\u001b[0;34m:\u001b[0m\u001b[0;34m\u001b[0m\u001b[0;34m\u001b[0m\u001b[0m\n\u001b[1;32m    192\u001b[0m         \u001b[0mretain_graph\u001b[0m \u001b[0;34m=\u001b[0m \u001b[0mcreate_graph\u001b[0m\u001b[0;34m\u001b[0m\u001b[0;34m\u001b[0m\u001b[0m\n",
            "\u001b[0;32m/usr/local/lib/python3.8/dist-packages/torch/autograd/__init__.py\u001b[0m in \u001b[0;36m_make_grads\u001b[0;34m(outputs, grads, is_grads_batched)\u001b[0m\n\u001b[1;32m     83\u001b[0m             \u001b[0;32mif\u001b[0m \u001b[0mout\u001b[0m\u001b[0;34m.\u001b[0m\u001b[0mrequires_grad\u001b[0m\u001b[0;34m:\u001b[0m\u001b[0;34m\u001b[0m\u001b[0;34m\u001b[0m\u001b[0m\n\u001b[1;32m     84\u001b[0m                 \u001b[0;32mif\u001b[0m \u001b[0mout\u001b[0m\u001b[0;34m.\u001b[0m\u001b[0mnumel\u001b[0m\u001b[0;34m(\u001b[0m\u001b[0;34m)\u001b[0m \u001b[0;34m!=\u001b[0m \u001b[0;36m1\u001b[0m\u001b[0;34m:\u001b[0m\u001b[0;34m\u001b[0m\u001b[0;34m\u001b[0m\u001b[0m\n\u001b[0;32m---> 85\u001b[0;31m                     \u001b[0;32mraise\u001b[0m \u001b[0mRuntimeError\u001b[0m\u001b[0;34m(\u001b[0m\u001b[0;34m\"grad can be implicitly created only for scalar outputs\"\u001b[0m\u001b[0;34m)\u001b[0m\u001b[0;34m\u001b[0m\u001b[0;34m\u001b[0m\u001b[0m\n\u001b[0m\u001b[1;32m     86\u001b[0m                 \u001b[0mnew_grads\u001b[0m\u001b[0;34m.\u001b[0m\u001b[0mappend\u001b[0m\u001b[0;34m(\u001b[0m\u001b[0mtorch\u001b[0m\u001b[0;34m.\u001b[0m\u001b[0mones_like\u001b[0m\u001b[0;34m(\u001b[0m\u001b[0mout\u001b[0m\u001b[0;34m,\u001b[0m \u001b[0mmemory_format\u001b[0m\u001b[0;34m=\u001b[0m\u001b[0mtorch\u001b[0m\u001b[0;34m.\u001b[0m\u001b[0mpreserve_format\u001b[0m\u001b[0;34m)\u001b[0m\u001b[0;34m)\u001b[0m\u001b[0;34m\u001b[0m\u001b[0;34m\u001b[0m\u001b[0m\n\u001b[1;32m     87\u001b[0m             \u001b[0;32melse\u001b[0m\u001b[0;34m:\u001b[0m\u001b[0;34m\u001b[0m\u001b[0;34m\u001b[0m\u001b[0m\n",
            "\u001b[0;31mRuntimeError\u001b[0m: grad can be implicitly created only for scalar outputs"
          ]
        }
      ]
    },
    {
      "cell_type": "markdown",
      "source": [
        "## 1*n tensor"
      ],
      "metadata": {
        "id": "UBPoRApcR4pu"
      }
    },
    {
      "cell_type": "code",
      "source": [
        "x = torch.ones(2,3,requires_grad=True)\n",
        "y = x + 2\n",
        "z = 2 * y**2 \n",
        "\n",
        "v = torch.tensor([[0.1 , 0.5 , 0.3 ],[0.1,0.5,0.3]]) # weighted sum (f =  z * v.t) \n",
        "z.backward(v)\n",
        "\n",
        "x.grad"
      ],
      "metadata": {
        "colab": {
          "base_uri": "https://localhost:8080/"
        },
        "id": "k5JRRzcbRzNb",
        "outputId": "bcbaec32-23e7-4540-b02b-68d29535abab"
      },
      "execution_count": null,
      "outputs": [
        {
          "output_type": "execute_result",
          "data": {
            "text/plain": [
              "tensor([[1.2000, 6.0000, 3.6000],\n",
              "        [1.2000, 6.0000, 3.6000]])"
            ]
          },
          "metadata": {},
          "execution_count": 15
        }
      ]
    },
    {
      "cell_type": "markdown",
      "source": [
        "## prevent pytorch from tracking gradient\n",
        "  * x.requires_grad = False\n",
        "  * x.detach()\n",
        "  * with torch.no_grad()\n",
        "  "
      ],
      "metadata": {
        "id": "FENaGb2MTFln"
      }
    },
    {
      "cell_type": "code",
      "source": [
        "x = torch.rand(3,requires_grad=True)\n",
        "print(x)\n",
        "x.requires_grad_(False) # No longer tracking"
      ],
      "metadata": {
        "colab": {
          "base_uri": "https://localhost:8080/"
        },
        "id": "TNKvGlnvSvBh",
        "outputId": "094105f8-5ef0-4257-cac7-dc687cead898"
      },
      "execution_count": null,
      "outputs": [
        {
          "output_type": "stream",
          "name": "stdout",
          "text": [
            "tensor([0.8616, 0.9201, 0.4289], requires_grad=True)\n"
          ]
        },
        {
          "output_type": "execute_result",
          "data": {
            "text/plain": [
              "tensor([0.8616, 0.9201, 0.4289])"
            ]
          },
          "metadata": {},
          "execution_count": 16
        }
      ]
    },
    {
      "cell_type": "code",
      "source": [
        "x = torch.rand(3,requires_grad=True)\n",
        "print(x)\n",
        "y = x.detach() # No longer tracking\n",
        "print(y)"
      ],
      "metadata": {
        "colab": {
          "base_uri": "https://localhost:8080/"
        },
        "id": "d5Ch1_KeUGX4",
        "outputId": "8daaaf90-d6a2-4266-c398-3d3c4499505b"
      },
      "execution_count": null,
      "outputs": [
        {
          "output_type": "stream",
          "name": "stdout",
          "text": [
            "tensor([0.4289, 0.2454, 0.7642], requires_grad=True)\n",
            "tensor([0.4289, 0.2454, 0.7642])\n"
          ]
        }
      ]
    },
    {
      "cell_type": "code",
      "source": [
        "x = torch.rand(3,requires_grad=True)\n",
        "print(x)\n",
        "with torch.no_grad():\n",
        "  y = x + 3\n",
        "print(y)"
      ],
      "metadata": {
        "colab": {
          "base_uri": "https://localhost:8080/"
        },
        "id": "Gv-6gtjuUZVl",
        "outputId": "a6496cbc-e9b5-4d69-d789-217771a6cb6a"
      },
      "execution_count": null,
      "outputs": [
        {
          "output_type": "stream",
          "name": "stdout",
          "text": [
            "tensor([0.1024, 0.5840, 0.7556], requires_grad=True)\n",
            "tensor([3.1024, 3.5840, 3.7556])\n"
          ]
        }
      ]
    },
    {
      "cell_type": "markdown",
      "source": [
        "## .grad will sum the previously calculated gradient to the actual ones"
      ],
      "metadata": {
        "id": "Bbva4hIJVjhv"
      }
    },
    {
      "cell_type": "code",
      "source": [
        "w = torch.ones(4 , requires_grad = True)\n",
        "for noe in range(3):\n",
        "  y = (w*3).sum()\n",
        "  y.backward()\n",
        "  print(w.grad)"
      ],
      "metadata": {
        "colab": {
          "base_uri": "https://localhost:8080/"
        },
        "id": "nZtmqyQgVu7t",
        "outputId": "e2449caa-635d-478e-a408-60d70704adaa"
      },
      "execution_count": null,
      "outputs": [
        {
          "output_type": "stream",
          "name": "stdout",
          "text": [
            "tensor([3., 3., 3., 3.])\n",
            "tensor([6., 6., 6., 6.])\n",
            "tensor([9., 9., 9., 9.])\n"
          ]
        }
      ]
    },
    {
      "cell_type": "code",
      "source": [
        "w = torch.ones(4 , requires_grad = True)\n",
        "for noe in range(3):\n",
        "  y = (w*3).sum()\n",
        "  y.backward()\n",
        "  print(w.grad)\n",
        "  w.grad.zero_()"
      ],
      "metadata": {
        "colab": {
          "base_uri": "https://localhost:8080/"
        },
        "id": "am-zT6jtWH63",
        "outputId": "c344dd48-6255-4e36-da8d-36fbe253666b"
      },
      "execution_count": null,
      "outputs": [
        {
          "output_type": "stream",
          "name": "stdout",
          "text": [
            "tensor([3., 3., 3., 3.])\n",
            "tensor([3., 3., 3., 3.])\n",
            "tensor([3., 3., 3., 3.])\n"
          ]
        }
      ]
    },
    {
      "cell_type": "markdown",
      "source": [
        "# **Backprobagation**"
      ],
      "metadata": {
        "id": "DUXOe3R9a7mO"
      }
    },
    {
      "cell_type": "code",
      "source": [
        "x = torch.tensor(1,dtype=torch.float32)\n",
        "\n",
        "y = torch.tensor(2,dtype=torch.float32)\n",
        "\n",
        "w = torch.tensor(1,dtype=torch.float32,requires_grad=True) \n",
        "\n",
        "yhat = w * x\n",
        "loss = (y - yhat)**2\n",
        "print(loss)\n",
        "\n",
        "loss.backward() # d loss / d w\n",
        "print(w.grad)\n",
        "\n",
        "## next, update weights and then start forwarding , ..."
      ],
      "metadata": {
        "colab": {
          "base_uri": "https://localhost:8080/"
        },
        "id": "lHbZ2_lkWQVF",
        "outputId": "73c2d4d6-08d6-4951-a7ce-6c9822e69740"
      },
      "execution_count": null,
      "outputs": [
        {
          "output_type": "stream",
          "name": "stdout",
          "text": [
            "tensor(1., grad_fn=<PowBackward0>)\n",
            "tensor(-2.)\n"
          ]
        }
      ]
    },
    {
      "cell_type": "markdown",
      "source": [
        "# Implementing all in pytorch"
      ],
      "metadata": {
        "id": "npqbyrCuISU1"
      }
    },
    {
      "cell_type": "code",
      "source": [
        "import torch\n",
        "import torch.nn as nn\n",
        "\n",
        "x = torch.tensor([1,2,3,4] , dtype = torch.float32).view(4,-1)\n",
        "y = torch.tensor([2,4,6,8] , dtype = torch.float32).view(4,-1)\n",
        "x_test = torch.tensor([5],dtype=torch.float32) \n",
        "\n",
        "num_sam , num_feat = x.size() # (row, column)\n",
        "\n",
        "print(num_sam , num_feat) \n",
        "\n",
        "input_size = num_feat # refer to input dimention\n",
        "output_size = num_feat # refer to output dimention\n",
        "\n",
        "model = nn.Linear(input_size , output_size) \n",
        "\n",
        "print(f\"Model's prediction before training for x = 5: {model(x_test).item():.3f}\\n\")\n",
        "\n",
        "lr = 0.01\n",
        "epochs = 100\n",
        "   \n",
        "loss = nn.MSELoss() # creat an instance of MSE class\n",
        "optimizer = torch.optim.SGD(model.parameters(),lr = lr)\n",
        "\n",
        "for epoch in range(epochs):\n",
        "  # forwarding\n",
        "  y_pred = model(x)\n",
        "  # loss\n",
        "  l = loss(y,y_pred)\n",
        "  # backward\n",
        "  l.backward()\n",
        "  #optimizer => updating weights\n",
        "  optimizer.step()\n",
        "  #reset gradient\n",
        "  optimizer.zero_grad()\n",
        "\n",
        "  if epoch % 10 ==0 :\n",
        "    w , b = model.parameters()\n",
        "    print(f\"Epoch : {epoch} , w : {w[0][0].item()} , loss : {l}\\n\")\n",
        "\n",
        "print(f'Model prediction aftre training for an arbitrary input : {x_test.item()} is {model(x_test).item():.3f}')"
      ],
      "metadata": {
        "colab": {
          "base_uri": "https://localhost:8080/"
        },
        "id": "JOBiC19Ge-4I",
        "outputId": "a5c442ee-2cf1-450e-df07-59f887f35005"
      },
      "execution_count": null,
      "outputs": [
        {
          "output_type": "stream",
          "name": "stdout",
          "text": [
            "4 1\n",
            "Model's prediction before training for x = 5: 4.312\n",
            "\n",
            "Epoch : 0 , w : 1.1244351863861084 , loss : 10.70458984375\n",
            "\n",
            "Epoch : 10 , w : 1.8731905221939087 , loss : 0.27735230326652527\n",
            "\n",
            "Epoch : 20 , w : 1.9932128190994263 , loss : 0.007551664020866156\n",
            "\n",
            "Epoch : 30 , w : 2.0121161937713623 , loss : 0.0005494178622029722\n",
            "\n",
            "Epoch : 40 , w : 2.0147664546966553 , loss : 0.00034765468444675207\n",
            "\n",
            "Epoch : 50 , w : 2.0148143768310547 , loss : 0.0003230239963158965\n",
            "\n",
            "Epoch : 60 , w : 2.0144546031951904 , loss : 0.00030410438193939626\n",
            "\n",
            "Epoch : 70 , w : 2.014039993286133 , loss : 0.00028640052187256515\n",
            "\n",
            "Epoch : 80 , w : 2.013627290725708 , loss : 0.0002697323798201978\n",
            "\n",
            "Epoch : 90 , w : 2.0132250785827637 , loss : 0.0002540323475841433\n",
            "\n",
            "Model prediction aftre training for an arbitrary input : 5.0 is 10.027\n"
          ]
        }
      ]
    },
    {
      "cell_type": "code",
      "source": [
        "print(model(x_test))\n",
        "print(model(x_test).detach())\n",
        "print(model(x_test).item())"
      ],
      "metadata": {
        "colab": {
          "base_uri": "https://localhost:8080/"
        },
        "id": "QET2t4QtzcYw",
        "outputId": "19d6847a-00cc-4bea-ac76-7cf413fedee0"
      },
      "execution_count": null,
      "outputs": [
        {
          "output_type": "stream",
          "name": "stdout",
          "text": [
            "tensor([10.0265], grad_fn=<AddBackward0>)\n",
            "tensor([10.0265])\n",
            "10.02651596069336\n"
          ]
        }
      ]
    },
    {
      "cell_type": "markdown",
      "source": [
        "## Define by nn.Module"
      ],
      "metadata": {
        "id": "cbBbfGCOSCPW"
      }
    },
    {
      "cell_type": "markdown",
      "source": [
        "Class LinearRegression:\n",
        "  def __init__(self, input_size, output_size, ...):\n",
        "    self. input_size = input_size\n",
        "    ....\n",
        "  def Att.1 (...):\n",
        "\n",
        "\n",
        "Class Virus:\n",
        "  .....\n",
        "\n",
        "Class Corona_Virus(Virus):\n",
        "  .....\n"
      ],
      "metadata": {
        "id": "IvqXiiF95VHQ"
      }
    },
    {
      "cell_type": "code",
      "source": [
        "import torch\n",
        "import torch.nn as nn\n",
        "\n",
        "x = torch.tensor([1,2,3,4] , dtype = torch.float32).view(4,-1)\n",
        "y = torch.tensor([2,4,6,8] , dtype = torch.float32).view(4,-1)\n",
        "x_test = torch.tensor([5],dtype=torch.float32)\n",
        "\n",
        "num_sam , num_feat = x.size()\n",
        "\n",
        "print(num_sam , num_feat)\n",
        "\n",
        "input_size = num_feat # refer to inpt dimention\n",
        "output_size = num_feat # refer to output dimention\n",
        "\n",
        "class LinearRegression(nn.Module):\n",
        "  def __init__(self , In_size , O_size ):\n",
        "    super(LinearRegression, self).__init__() # super().forward # nn.Module.forward()\n",
        "    # define layes\n",
        "    self.lin = nn.Linear(In_size , O_size)\n",
        "\n",
        "  def forward(self , x):\n",
        "    return self.lin(x)\n",
        "\n",
        "model = LinearRegression(input_size , output_size)\n",
        "print(f\"Model's prediction before training for x = 5: {model(x_test).item():.3f}\\n\")\n",
        "\n",
        "lr = 0.01\n",
        "epochs = 100\n",
        "\n",
        "loss = nn.MSELoss() # creat an instance of MSE class\n",
        "optimizer = torch.optim.SGD(model.parameters(),lr = lr)\n",
        "\n",
        "for epoch in range(epochs):\n",
        "  # forwarding\n",
        "  y_pred = model(x)\n",
        "  # loss\n",
        "  l = loss(y,y_pred)\n",
        "  # backward\n",
        "  l.backward()\n",
        "  #optimizer => updating weights\n",
        "  optimizer.step()\n",
        "  #reset gradient\n",
        "  optimizer.zero_grad()\n",
        "\n",
        "  if epoch % 10 ==0 :\n",
        "    w , b = model.parameters()\n",
        "    print(f\"Epoch : {epoch} , w : {w[0][0].item()} , loss : {l}\\n\")\n",
        "\n",
        "print(f'Model prediction aftre training for an arbitrary input : {x_test.item()} is {model(x_test).item():.3f}')"
      ],
      "metadata": {
        "colab": {
          "base_uri": "https://localhost:8080/"
        },
        "id": "_ZRY5o2lH3RH",
        "outputId": "c9ebb941-1641-4c6c-ce20-27414873812d"
      },
      "execution_count": null,
      "outputs": [
        {
          "output_type": "stream",
          "name": "stdout",
          "text": [
            "4 1\n",
            "Model's prediction before training for x = 5: -2.654\n",
            "\n",
            "Epoch : 0 , w : -0.30139246582984924 , loss : 44.71574783325195\n",
            "\n",
            "Epoch : 10 , w : 1.2384709119796753 , loss : 1.4677343368530273\n",
            "\n",
            "Epoch : 20 , w : 1.4977164268493652 , loss : 0.33071279525756836\n",
            "\n",
            "Epoch : 30 , w : 1.550634503364563 , loss : 0.2842564582824707\n",
            "\n",
            "Epoch : 40 , w : 1.5700336694717407 , loss : 0.26700717210769653\n",
            "\n",
            "Epoch : 50 , w : 1.5837194919586182 , loss : 0.2514478862285614\n",
            "\n",
            "Epoch : 60 , w : 1.5961744785308838 , loss : 0.23681189119815826\n",
            "\n",
            "Epoch : 70 , w : 1.608128547668457 , loss : 0.2230280339717865\n",
            "\n",
            "Epoch : 80 , w : 1.6197081804275513 , loss : 0.2100467085838318\n",
            "\n",
            "Epoch : 90 , w : 1.6309422254562378 , loss : 0.19782082736492157\n",
            "\n",
            "Model prediction aftre training for an arbitrary input : 5.0 is 9.260\n"
          ]
        }
      ]
    },
    {
      "cell_type": "markdown",
      "source": [
        "## **Logistic regression**"
      ],
      "metadata": {
        "id": "W_WZfiVVKaX8"
      }
    },
    {
      "cell_type": "code",
      "source": [
        "import torch\n",
        "import torch.nn as nn\n",
        "import numpy as np\n",
        "from sklearn import datasets\n",
        "from sklearn.preprocessing import StandardScaler\n",
        "from sklearn.model_selection import train_test_split"
      ],
      "metadata": {
        "id": "bHC6Xbm5Kctw"
      },
      "execution_count": null,
      "outputs": []
    },
    {
      "cell_type": "markdown",
      "source": [
        "  * 0 : prepare the data\n",
        "  * 1 : model\n",
        "  * 2 : loss , optimizer\n",
        "  * 3 : training loop\n",
        "  "
      ],
      "metadata": {
        "id": "Ctaotx6hMDtG"
      }
    },
    {
      "cell_type": "code",
      "source": [
        "#step 0\n",
        "bc = datasets.load_breast_cancer()\n",
        "x , y = bc.data , bc.target\n",
        "\n",
        "n_samples , n_features = x.shape\n",
        "print(n_samples , n_features)\n",
        "\n",
        "x_train , x_test , y_train , y_test = train_test_split(x , y , test_size=0.25 , random_state=111)\n",
        "\n",
        "sc = StandardScaler()\n",
        "x_train = sc.fit_transform(x_train)\n",
        "x_test = sc.transform(x_test)\n",
        "\n",
        "x_train = torch.from_numpy(x_train.astype(np.float32))\n",
        "y_train = torch.from_numpy(y_train.astype(np.float32))\n",
        "x_test = torch.from_numpy(x_test.astype(np.float32))\n",
        "y_test = torch.from_numpy(y_test.astype(np.float32))\n",
        "\n",
        "y_train = y_train.view(y_train.shape[0],1) # Converting to one column\n",
        "y_test = y_test.view(y_test.shape[0],1) # Converting to one column\n",
        "# step 1, model\n",
        "# f = w.x , apply sigmoid at the end\n",
        "class LogisticRegression(nn.Module):\n",
        "  def __init__(self,n_input_features):\n",
        "    super(LogisticRegression , self).__init__()\n",
        "    self.lin = nn.Linear(n_input_features , 1)\n",
        "  def forward(self , x):\n",
        "    return torch.sigmoid(self.lin(x))\n",
        "\n",
        "model = LogisticRegression(n_features)\n",
        "\n",
        "# 2 : define loss and optimizer\n",
        "loss = nn.BCELoss()\n",
        "optimizer = torch.optim.SGD(model.parameters() , lr = 0.01)\n",
        "# 3 : train the model\n",
        "n_epcohs = 100\n",
        "for epoch in range(n_epcohs):\n",
        "  y_train_pred  = model(x_train)\n",
        "  # define loss\n",
        "  l = loss(y_train_pred , y_train)\n",
        "  # backprog\n",
        "  l.backward()\n",
        "  #update gd\n",
        "  optimizer.step()\n",
        "\n",
        "  optimizer.zero_grad()\n",
        "\n",
        "  with torch.no_grad():\n",
        "    y_test_pred = model(x_test)\n",
        "    y_np = y_test_pred.numpy() # y_test_pred_cls = y_test_pred.round()\n",
        "    label = (y_np >= 0.5).astype(np.float32) \n",
        "    acc = np.round(np.sum((label == y_test.numpy())/label.shape[0])*100,2) # acc = y_test_pred_cls.eq(y_test).sum()/float(y_test.shape[0])*100\n",
        "  if (epoch+1) % 10 ==0:\n",
        "    print(f\"Training for => Epoch : {epoch+1} ,  loss : {l.item():.4f}\")\n",
        "    print(f\"The Accuracy on the test data on Epoch {epoch +1 } is : {acc}%\\n\")\n"
      ],
      "metadata": {
        "colab": {
          "base_uri": "https://localhost:8080/"
        },
        "id": "5DB0UUfiLxJS",
        "outputId": "832074ee-a28b-4d3f-b594-69cd6aa645db"
      },
      "execution_count": null,
      "outputs": [
        {
          "output_type": "stream",
          "name": "stdout",
          "text": [
            "569 30\n",
            "Training for => Epoch : 10 ,  loss : 0.6142\n",
            "The Accuracy on the test data on Epoch 10 is : 67.83%\n",
            "\n",
            "Training for => Epoch : 20 ,  loss : 0.5109\n",
            "The Accuracy on the test data on Epoch 20 is : 85.31%\n",
            "\n",
            "Training for => Epoch : 30 ,  loss : 0.4447\n",
            "The Accuracy on the test data on Epoch 30 is : 88.11%\n",
            "\n",
            "Training for => Epoch : 40 ,  loss : 0.3984\n",
            "The Accuracy on the test data on Epoch 40 is : 89.51%\n",
            "\n",
            "Training for => Epoch : 50 ,  loss : 0.3642\n",
            "The Accuracy on the test data on Epoch 50 is : 90.21%\n",
            "\n",
            "Training for => Epoch : 60 ,  loss : 0.3376\n",
            "The Accuracy on the test data on Epoch 60 is : 91.61%\n",
            "\n",
            "Training for => Epoch : 70 ,  loss : 0.3163\n",
            "The Accuracy on the test data on Epoch 70 is : 92.31%\n",
            "\n",
            "Training for => Epoch : 80 ,  loss : 0.2988\n",
            "The Accuracy on the test data on Epoch 80 is : 92.31%\n",
            "\n",
            "Training for => Epoch : 90 ,  loss : 0.2840\n",
            "The Accuracy on the test data on Epoch 90 is : 93.01%\n",
            "\n",
            "Training for => Epoch : 100 ,  loss : 0.2714\n",
            "The Accuracy on the test data on Epoch 100 is : 93.01%\n",
            "\n"
          ]
        }
      ]
    },
    {
      "cell_type": "markdown",
      "source": [
        "# **Dataset and DataLoader**"
      ],
      "metadata": {
        "id": "lT1NT-_B2I7U"
      }
    },
    {
      "cell_type": "markdown",
      "source": [
        "## Dataset"
      ],
      "metadata": {
        "id": "toEjkX1P8p8U"
      }
    },
    {
      "cell_type": "code",
      "source": [
        "import torch\n",
        "import torchvision\n",
        "from torch.utils.data import Dataset , DataLoader\n",
        "import numpy as np\n",
        "import math\n"
      ],
      "metadata": {
        "id": "AzrUZTmul706"
      },
      "execution_count": null,
      "outputs": []
    },
    {
      "cell_type": "code",
      "source": [
        "from sklearn.datasets import load_wine\n",
        "data = load_wine()"
      ],
      "metadata": {
        "id": "pYRXuo97RknX"
      },
      "execution_count": null,
      "outputs": []
    },
    {
      "cell_type": "code",
      "source": [
        "print(data.data.shape)\n",
        "print(data.target.shape)"
      ],
      "metadata": {
        "colab": {
          "base_uri": "https://localhost:8080/"
        },
        "id": "A_-m61nLRnXI",
        "outputId": "8f8d85b6-1bd5-4927-fe68-2f119e22debe"
      },
      "execution_count": null,
      "outputs": [
        {
          "output_type": "stream",
          "name": "stdout",
          "text": [
            "(178, 13)\n",
            "(178,)\n"
          ]
        }
      ]
    },
    {
      "cell_type": "code",
      "source": [
        "type(data.data)"
      ],
      "metadata": {
        "colab": {
          "base_uri": "https://localhost:8080/"
        },
        "id": "zmhcKaEWXca9",
        "outputId": "4e02e0f3-23b9-44eb-ade4-607e2c04bcc3"
      },
      "execution_count": null,
      "outputs": [
        {
          "output_type": "execute_result",
          "data": {
            "text/plain": [
              "numpy.ndarray"
            ]
          },
          "metadata": {},
          "execution_count": 30
        }
      ]
    },
    {
      "cell_type": "code",
      "source": [
        "class WineDataset(Dataset):\n",
        "  def __init__(self):\n",
        "    #data loading\n",
        "    #xy = np.loadtxt('wine.csv' , delimiter= \",\" , dtype = np.float32 , skiprows=1) # ignore the header\n",
        "    data = load_wine()\n",
        "    self.x = torch.from_numpy(data.data)\n",
        "    self.y = torch.from_numpy(data.target) # [0] => reshaped already to accepted format\n",
        "    self.n_samples = data.data.shape[0]\n",
        "  def __getitem__(self, index):\n",
        "    #indexing\n",
        "      return self.x[index] , self.y[index]\n",
        "  def __len__(self):\n",
        "    return self.n_samples\n",
        "\n",
        "\n",
        "dataset = WineDataset()\n",
        "first_data = dataset[0]\n",
        "features , labels = first_data\n",
        "print(features , labels)"
      ],
      "metadata": {
        "colab": {
          "base_uri": "https://localhost:8080/"
        },
        "id": "OJr5mfZY4O0F",
        "outputId": "fbf2cc09-0f20-4f66-d1f8-44b26559c363"
      },
      "execution_count": null,
      "outputs": [
        {
          "output_type": "stream",
          "name": "stdout",
          "text": [
            "tensor([1.4230e+01, 1.7100e+00, 2.4300e+00, 1.5600e+01, 1.2700e+02, 2.8000e+00,\n",
            "        3.0600e+00, 2.8000e-01, 2.2900e+00, 5.6400e+00, 1.0400e+00, 3.9200e+00,\n",
            "        1.0650e+03], dtype=torch.float64) tensor(0)\n"
          ]
        }
      ]
    },
    {
      "cell_type": "markdown",
      "source": [
        "## DataLoader"
      ],
      "metadata": {
        "id": "ZOTH_quv8s6D"
      }
    },
    {
      "cell_type": "code",
      "source": [
        "bt = 5\n",
        "dataloader = DataLoader(dataset , batch_size = bt ,shuffle = True , num_workers = 2)\n",
        "dataiter = iter(dataloader)\n",
        "data = next(dataiter)\n",
        "features , labels  = data\n",
        "print(features , \"\\n\" , labels )"
      ],
      "metadata": {
        "colab": {
          "base_uri": "https://localhost:8080/"
        },
        "id": "Zy6J1XZi6aUN",
        "outputId": "bd04c7f4-7e60-4558-c97c-eee45a16f826"
      },
      "execution_count": null,
      "outputs": [
        {
          "output_type": "stream",
          "name": "stdout",
          "text": [
            "tensor([[1.3840e+01, 4.1200e+00, 2.3800e+00, 1.9500e+01, 8.9000e+01, 1.8000e+00,\n",
            "         8.3000e-01, 4.8000e-01, 1.5600e+00, 9.0100e+00, 5.7000e-01, 1.6400e+00,\n",
            "         4.8000e+02],\n",
            "        [1.2420e+01, 1.6100e+00, 2.1900e+00, 2.2500e+01, 1.0800e+02, 2.0000e+00,\n",
            "         2.0900e+00, 3.4000e-01, 1.6100e+00, 2.0600e+00, 1.0600e+00, 2.9600e+00,\n",
            "         3.4500e+02],\n",
            "        [1.4830e+01, 1.6400e+00, 2.1700e+00, 1.4000e+01, 9.7000e+01, 2.8000e+00,\n",
            "         2.9800e+00, 2.9000e-01, 1.9800e+00, 5.2000e+00, 1.0800e+00, 2.8500e+00,\n",
            "         1.0450e+03],\n",
            "        [1.4750e+01, 1.7300e+00, 2.3900e+00, 1.1400e+01, 9.1000e+01, 3.1000e+00,\n",
            "         3.6900e+00, 4.3000e-01, 2.8100e+00, 5.4000e+00, 1.2500e+00, 2.7300e+00,\n",
            "         1.1500e+03],\n",
            "        [1.4370e+01, 1.9500e+00, 2.5000e+00, 1.6800e+01, 1.1300e+02, 3.8500e+00,\n",
            "         3.4900e+00, 2.4000e-01, 2.1800e+00, 7.8000e+00, 8.6000e-01, 3.4500e+00,\n",
            "         1.4800e+03]], dtype=torch.float64) \n",
            " tensor([2, 1, 0, 0, 0])\n"
          ]
        }
      ]
    },
    {
      "cell_type": "code",
      "source": [
        "# Now creat a training loop\n",
        "n_epochs = 10\n",
        "total_samples = len(dataset)\n",
        "n_iterations = math.ceil(total_samples / bt)-1\n",
        "print(total_samples , n_iterations ) \n",
        "\n",
        "for epoch in range(n_epochs):\n",
        "  for i , (inputs , labels) in enumerate(dataloader):\n",
        "    #forward , backward , updating\n",
        "    if (i+1) % 5 ==0:\n",
        "      print(f\"epoch : {epoch+1}/{n_epochs} , step : {i+1}/{n_iterations} , inputs shape : {inputs.shape}\")"
      ],
      "metadata": {
        "id": "qN8RxVmC9cES",
        "colab": {
          "base_uri": "https://localhost:8080/"
        },
        "outputId": "f2ff4a33-0179-48b7-edc4-c75d160475df"
      },
      "execution_count": null,
      "outputs": [
        {
          "output_type": "stream",
          "name": "stdout",
          "text": [
            "178 35\n",
            "epoch : 1/10 , step : 5/35 , inputs shape : torch.Size([5, 13])\n",
            "epoch : 1/10 , step : 10/35 , inputs shape : torch.Size([5, 13])\n",
            "epoch : 1/10 , step : 15/35 , inputs shape : torch.Size([5, 13])\n",
            "epoch : 1/10 , step : 20/35 , inputs shape : torch.Size([5, 13])\n",
            "epoch : 1/10 , step : 25/35 , inputs shape : torch.Size([5, 13])\n",
            "epoch : 1/10 , step : 30/35 , inputs shape : torch.Size([5, 13])\n",
            "epoch : 1/10 , step : 35/35 , inputs shape : torch.Size([5, 13])\n",
            "epoch : 2/10 , step : 5/35 , inputs shape : torch.Size([5, 13])\n",
            "epoch : 2/10 , step : 10/35 , inputs shape : torch.Size([5, 13])\n",
            "epoch : 2/10 , step : 15/35 , inputs shape : torch.Size([5, 13])\n",
            "epoch : 2/10 , step : 20/35 , inputs shape : torch.Size([5, 13])\n",
            "epoch : 2/10 , step : 25/35 , inputs shape : torch.Size([5, 13])\n",
            "epoch : 2/10 , step : 30/35 , inputs shape : torch.Size([5, 13])\n",
            "epoch : 2/10 , step : 35/35 , inputs shape : torch.Size([5, 13])\n",
            "epoch : 3/10 , step : 5/35 , inputs shape : torch.Size([5, 13])\n",
            "epoch : 3/10 , step : 10/35 , inputs shape : torch.Size([5, 13])\n",
            "epoch : 3/10 , step : 15/35 , inputs shape : torch.Size([5, 13])\n",
            "epoch : 3/10 , step : 20/35 , inputs shape : torch.Size([5, 13])\n",
            "epoch : 3/10 , step : 25/35 , inputs shape : torch.Size([5, 13])\n",
            "epoch : 3/10 , step : 30/35 , inputs shape : torch.Size([5, 13])\n",
            "epoch : 3/10 , step : 35/35 , inputs shape : torch.Size([5, 13])\n",
            "epoch : 4/10 , step : 5/35 , inputs shape : torch.Size([5, 13])\n",
            "epoch : 4/10 , step : 10/35 , inputs shape : torch.Size([5, 13])\n",
            "epoch : 4/10 , step : 15/35 , inputs shape : torch.Size([5, 13])\n",
            "epoch : 4/10 , step : 20/35 , inputs shape : torch.Size([5, 13])\n",
            "epoch : 4/10 , step : 25/35 , inputs shape : torch.Size([5, 13])\n",
            "epoch : 4/10 , step : 30/35 , inputs shape : torch.Size([5, 13])\n",
            "epoch : 4/10 , step : 35/35 , inputs shape : torch.Size([5, 13])\n",
            "epoch : 5/10 , step : 5/35 , inputs shape : torch.Size([5, 13])\n",
            "epoch : 5/10 , step : 10/35 , inputs shape : torch.Size([5, 13])\n",
            "epoch : 5/10 , step : 15/35 , inputs shape : torch.Size([5, 13])\n",
            "epoch : 5/10 , step : 20/35 , inputs shape : torch.Size([5, 13])\n",
            "epoch : 5/10 , step : 25/35 , inputs shape : torch.Size([5, 13])\n",
            "epoch : 5/10 , step : 30/35 , inputs shape : torch.Size([5, 13])\n",
            "epoch : 5/10 , step : 35/35 , inputs shape : torch.Size([5, 13])\n",
            "epoch : 6/10 , step : 5/35 , inputs shape : torch.Size([5, 13])\n",
            "epoch : 6/10 , step : 10/35 , inputs shape : torch.Size([5, 13])\n",
            "epoch : 6/10 , step : 15/35 , inputs shape : torch.Size([5, 13])\n",
            "epoch : 6/10 , step : 20/35 , inputs shape : torch.Size([5, 13])\n",
            "epoch : 6/10 , step : 25/35 , inputs shape : torch.Size([5, 13])\n",
            "epoch : 6/10 , step : 30/35 , inputs shape : torch.Size([5, 13])\n",
            "epoch : 6/10 , step : 35/35 , inputs shape : torch.Size([5, 13])\n",
            "epoch : 7/10 , step : 5/35 , inputs shape : torch.Size([5, 13])\n",
            "epoch : 7/10 , step : 10/35 , inputs shape : torch.Size([5, 13])\n",
            "epoch : 7/10 , step : 15/35 , inputs shape : torch.Size([5, 13])\n",
            "epoch : 7/10 , step : 20/35 , inputs shape : torch.Size([5, 13])\n",
            "epoch : 7/10 , step : 25/35 , inputs shape : torch.Size([5, 13])\n",
            "epoch : 7/10 , step : 30/35 , inputs shape : torch.Size([5, 13])\n",
            "epoch : 7/10 , step : 35/35 , inputs shape : torch.Size([5, 13])\n",
            "epoch : 8/10 , step : 5/35 , inputs shape : torch.Size([5, 13])\n",
            "epoch : 8/10 , step : 10/35 , inputs shape : torch.Size([5, 13])\n",
            "epoch : 8/10 , step : 15/35 , inputs shape : torch.Size([5, 13])\n",
            "epoch : 8/10 , step : 20/35 , inputs shape : torch.Size([5, 13])\n",
            "epoch : 8/10 , step : 25/35 , inputs shape : torch.Size([5, 13])\n",
            "epoch : 8/10 , step : 30/35 , inputs shape : torch.Size([5, 13])\n",
            "epoch : 8/10 , step : 35/35 , inputs shape : torch.Size([5, 13])\n",
            "epoch : 9/10 , step : 5/35 , inputs shape : torch.Size([5, 13])\n",
            "epoch : 9/10 , step : 10/35 , inputs shape : torch.Size([5, 13])\n",
            "epoch : 9/10 , step : 15/35 , inputs shape : torch.Size([5, 13])\n",
            "epoch : 9/10 , step : 20/35 , inputs shape : torch.Size([5, 13])\n",
            "epoch : 9/10 , step : 25/35 , inputs shape : torch.Size([5, 13])\n",
            "epoch : 9/10 , step : 30/35 , inputs shape : torch.Size([5, 13])\n",
            "epoch : 9/10 , step : 35/35 , inputs shape : torch.Size([5, 13])\n",
            "epoch : 10/10 , step : 5/35 , inputs shape : torch.Size([5, 13])\n",
            "epoch : 10/10 , step : 10/35 , inputs shape : torch.Size([5, 13])\n",
            "epoch : 10/10 , step : 15/35 , inputs shape : torch.Size([5, 13])\n",
            "epoch : 10/10 , step : 20/35 , inputs shape : torch.Size([5, 13])\n",
            "epoch : 10/10 , step : 25/35 , inputs shape : torch.Size([5, 13])\n",
            "epoch : 10/10 , step : 30/35 , inputs shape : torch.Size([5, 13])\n",
            "epoch : 10/10 , step : 35/35 , inputs shape : torch.Size([5, 13])\n"
          ]
        }
      ]
    },
    {
      "cell_type": "code",
      "source": [
        "# Famous dataset\n",
        "#torchvision.datasets.MNIST()"
      ],
      "metadata": {
        "id": "XhbGjrf9LL1g"
      },
      "execution_count": null,
      "outputs": []
    },
    {
      "cell_type": "code",
      "source": [
        "# define a dataset class\n",
        "class WineDataset(Dataset):\n",
        "  def __init__(self ,  transform = None):\n",
        "    #data loading\n",
        "    # xy = np.loadtxt('wine.csv' , delimiter= \",\" , dtype = np.float32 , skiprows=1) # ignore the header\n",
        "\n",
        "    # self.x = xy[:,1:]\n",
        "    # self.y = xy[:,[0]] # [0] => reshaped already to accepted format\n",
        "    data = load_wine()\n",
        "    self.x = data.data\n",
        "    self.y = data.target.reshape(-1,1)# [0] => reshaped already to accepted format\n",
        "    self.n_samples = data.data.shape[0]\n",
        "  \n",
        "    #self.n_samples = xy.shape[0]\n",
        "\n",
        "    self.transform = transform\n",
        "\n",
        "  def __getitem__(self, index):\n",
        "    #indexing\n",
        "      sample = self.x[index] , self.y[index]\n",
        "\n",
        "      if self.transform :\n",
        "        sample = self.transform(sample)\n",
        "\n",
        "      return sample \n",
        "      \n",
        "  def __len__(self):\n",
        "    return self.n_samples"
      ],
      "metadata": {
        "id": "Q5qsJDPBL51p"
      },
      "execution_count": null,
      "outputs": []
    },
    {
      "cell_type": "markdown",
      "source": [
        "## Create \"ToTensor\" transform, to transform the data from Numpy into Tensor"
      ],
      "metadata": {
        "id": "YUmD3fqPY61b"
      }
    },
    {
      "cell_type": "code",
      "source": [
        "class ToTensor:\n",
        "  def __call__(self, sample) :\n",
        "      inputs , targets = sample\n",
        "      return torch.from_numpy(inputs) , torch.from_numpy(targets)\n",
        "\n",
        "\n",
        "dataset = WineDataset() \n",
        "first_data = dataset[0]\n",
        "features_ntf , labels_ntf = first_data\n",
        "print(features_ntf , \"\\n\" , labels_ntf)\n",
        "\n",
        "\n",
        "dataset = WineDataset(transform = ToTensor()) \n",
        "first_data = dataset[0]\n",
        "features_tf , labels_tf = first_data\n",
        "print(features_tf , labels_tf)    "
      ],
      "metadata": {
        "colab": {
          "base_uri": "https://localhost:8080/"
        },
        "id": "udkBl_OjVuwh",
        "outputId": "056ed5eb-efb9-4c00-9f99-d67ded326d76"
      },
      "execution_count": null,
      "outputs": [
        {
          "output_type": "stream",
          "name": "stdout",
          "text": [
            "[1.423e+01 1.710e+00 2.430e+00 1.560e+01 1.270e+02 2.800e+00 3.060e+00\n",
            " 2.800e-01 2.290e+00 5.640e+00 1.040e+00 3.920e+00 1.065e+03] \n",
            " [0]\n",
            "tensor([1.4230e+01, 1.7100e+00, 2.4300e+00, 1.5600e+01, 1.2700e+02, 2.8000e+00,\n",
            "        3.0600e+00, 2.8000e-01, 2.2900e+00, 5.6400e+00, 1.0400e+00, 3.9200e+00,\n",
            "        1.0650e+03], dtype=torch.float64) tensor([0])\n"
          ]
        }
      ]
    },
    {
      "cell_type": "markdown",
      "source": [
        "## Creat MulTransform, to scale input data "
      ],
      "metadata": {
        "id": "Zg88YiKkZR7p"
      }
    },
    {
      "cell_type": "code",
      "source": [
        "class MulTransform:\n",
        "  def __init__(self, scale):\n",
        "    self.scale = scale \n",
        "  def __call__(self , sample):\n",
        "    inputs , targets = sample\n",
        "    inputs *= self.scale\n",
        "    return inputs , targets"
      ],
      "metadata": {
        "id": "599VoIvNXvAy"
      },
      "execution_count": null,
      "outputs": []
    },
    {
      "cell_type": "code",
      "source": [
        "# apply the both constructed transforms\n",
        "composed = torchvision.transforms.Compose([ToTensor() , MulTransform(3)])\n",
        "dataset = WineDataset(transform = composed)\n",
        "first_data = dataset[0]\n",
        "features_cmp , labels_cmp = first_data\n",
        "print(features_tf , \"\\n\" , labels_tf , \"\\n\")\n",
        "print(features_cmp , \"\\n\" , labels_cmp)"
      ],
      "metadata": {
        "colab": {
          "base_uri": "https://localhost:8080/"
        },
        "id": "vuXC0nMDaP3X",
        "outputId": "e3078610-1ed2-4537-eb74-27a2c404a606"
      },
      "execution_count": null,
      "outputs": [
        {
          "output_type": "stream",
          "name": "stdout",
          "text": [
            "tensor([1.4230e+01, 1.7100e+00, 2.4300e+00, 1.5600e+01, 1.2700e+02, 2.8000e+00,\n",
            "        3.0600e+00, 2.8000e-01, 2.2900e+00, 5.6400e+00, 1.0400e+00, 3.9200e+00,\n",
            "        1.0650e+03], dtype=torch.float64) \n",
            " tensor([0]) \n",
            "\n",
            "tensor([4.2690e+01, 5.1300e+00, 7.2900e+00, 4.6800e+01, 3.8100e+02, 8.4000e+00,\n",
            "        9.1800e+00, 8.4000e-01, 6.8700e+00, 1.6920e+01, 3.1200e+00, 1.1760e+01,\n",
            "        3.1950e+03], dtype=torch.float64) \n",
            " tensor([0])\n"
          ]
        }
      ]
    },
    {
      "cell_type": "markdown",
      "source": [
        "# **soft max , cross entropy**"
      ],
      "metadata": {
        "id": "nvKtMNLpcMAb"
      }
    },
    {
      "cell_type": "markdown",
      "source": [
        "### Implementing softmax "
      ],
      "metadata": {
        "id": "SpQxOPuzrw6I"
      }
    },
    {
      "cell_type": "markdown",
      "source": [
        "### by numpy"
      ],
      "metadata": {
        "id": "ZJnB7IFVtaQh"
      }
    },
    {
      "cell_type": "code",
      "source": [
        "import numpy as np\n",
        "\n",
        "def softmax(x):\n",
        "  return np.exp(x)/np.sum(np.exp(x))\n",
        "\n",
        "x = [0.1 , 1 , 2]\n",
        "print(softmax(x))"
      ],
      "metadata": {
        "colab": {
          "base_uri": "https://localhost:8080/"
        },
        "id": "ueYCaMyibZbs",
        "outputId": "299c6b07-5bb4-4edd-c64c-1df881c97a1b"
      },
      "execution_count": null,
      "outputs": [
        {
          "output_type": "stream",
          "name": "stdout",
          "text": [
            "[0.09856589 0.24243297 0.65900114]\n"
          ]
        }
      ]
    },
    {
      "cell_type": "markdown",
      "source": [
        "###  by pytorch"
      ],
      "metadata": {
        "id": "au0HB_ZvsgYK"
      }
    },
    {
      "cell_type": "code",
      "source": [
        "import torch\n",
        "\n",
        "x = torch.tensor([0.1 , 1 , 2])\n",
        "print(torch.softmax(x , dim = 0))"
      ],
      "metadata": {
        "colab": {
          "base_uri": "https://localhost:8080/"
        },
        "id": "poPLft1Xsf1J",
        "outputId": "95017a2a-fe2d-4d01-e2f2-9ef84483947c"
      },
      "execution_count": null,
      "outputs": [
        {
          "output_type": "stream",
          "name": "stdout",
          "text": [
            "tensor([0.0986, 0.2424, 0.6590])\n"
          ]
        }
      ]
    },
    {
      "cell_type": "markdown",
      "source": [
        "## Implementing Cross Entropy"
      ],
      "metadata": {
        "id": "jHG4g4EEtffJ"
      }
    },
    {
      "cell_type": "markdown",
      "source": [
        "### by numpy"
      ],
      "metadata": {
        "id": "8in3U-MytuLx"
      }
    },
    {
      "cell_type": "code",
      "source": [
        "def cross_entropy(actual , predicted):\n",
        "  # actual must be one-hot encoded\n",
        "  return -np.sum(actual * np.log(predicted))\n",
        "\n",
        "# class 1 => y = [1 0 0]\n",
        "# class 2 => y = [0 1 0]\n",
        "# class 3 => y = [0 0 1]\n",
        "\n",
        "# good prediction => y^ = [0.7 ,0.2 ,0.1]\n",
        "# bad  prediction => y^ = [0.1 ,0.5 ,0.4]\n",
        "y = [1, 0, 0] # Class 0(1)\n",
        "y_g_pred = [0.7 ,0.2 ,0.1]\n",
        "y_b_pred = [0.1 ,0.5 ,0.4]\n",
        "print(f\"The good prediction cross entropy loss is {cross_entropy(y , y_g_pred):.2f}\\n\")\n",
        "print(f\"The bad prediction cross entropy loss is {cross_entropy(y , y_b_pred):.2f}\\n\")"
      ],
      "metadata": {
        "colab": {
          "base_uri": "https://localhost:8080/"
        },
        "id": "OKhnMf4SsQ4b",
        "outputId": "2ca51515-1e4a-4788-aeea-b44c35807265"
      },
      "execution_count": null,
      "outputs": [
        {
          "output_type": "stream",
          "name": "stdout",
          "text": [
            "The good prediction cross entropy loss is 0.36\n",
            "\n",
            "The bad prediction cross entropy loss is 2.30\n",
            "\n"
          ]
        }
      ]
    },
    {
      "cell_type": "markdown",
      "source": [
        "### by pytorch\n",
        "### some important notes concerning with nn.CrossEntropyLoss from pyorch:\n",
        "  * pytorch will apply nn.LogSoftmax() + nn.NNLLoss(negative log-likelihood loss)\n",
        "  * The true label(y) should'nt be defined as one-hot, should be the coresponding label\n",
        "  * The predicted y, is the model raw output. Ex : [0.1 , 2 , 3]"
      ],
      "metadata": {
        "id": "QvSD-fhUwKJJ"
      }
    },
    {
      "cell_type": "markdown",
      "source": [
        "### Single sample"
      ],
      "metadata": {
        "id": "6nWLWJ0VVlnQ"
      }
    },
    {
      "cell_type": "code",
      "source": [
        "import torch\n",
        "import torch.nn as nn\n",
        "loss = nn.CrossEntropyLoss()\n",
        "y = torch.tensor([1])\n",
        "y_pred_good = torch.tensor([[0.2, 4, 1]])\n",
        "y_pred_bad = torch.tensor([[3 , 1 , 0.5]])\n",
        "\n",
        "l1 = loss(y_pred_good , y)\n",
        "l2 = loss(y_pred_bad , y)\n",
        "print(f\" The good prediction loss : {l1.item():.2f}\\n\")\n",
        "print(f\" The bad prediction loss : {l2.item():.2f}\")\n",
        "\n",
        "_,pred_label1 = torch.max(y_pred_good , 1)\n",
        "_,pred_label2 = torch.max(y_pred_bad , 1)\n",
        "print(\"\\n\" , pred_label1 , pred_label2)"
      ],
      "metadata": {
        "colab": {
          "base_uri": "https://localhost:8080/"
        },
        "id": "m3DQo84-uXbb",
        "outputId": "5afdf870-c31f-4de4-c2ab-3f6e1cc57a02"
      },
      "execution_count": null,
      "outputs": [
        {
          "output_type": "stream",
          "name": "stdout",
          "text": [
            " The good prediction loss : 0.07\n",
            "\n",
            " The bad prediction loss : 2.20\n",
            "\n",
            " tensor([1]) tensor([0])\n"
          ]
        }
      ]
    },
    {
      "cell_type": "markdown",
      "source": [
        "### Multiple Samples"
      ],
      "metadata": {
        "id": "0xsSYl3TVoO_"
      }
    },
    {
      "cell_type": "code",
      "source": [
        "import torch\n",
        "import torch.nn as nn\n",
        "loss = nn.CrossEntropyLoss()\n",
        "y = torch.tensor([1 , 2 , 0])\n",
        "y_pred_good = torch.tensor([[2, 4, 1] , [0.1, 0.1, 2], [3.5, 1, 0.5]]) # 3*3\n",
        "y_pred_bad = torch.tensor([[1, 1, 0.5] , [5, 2.5, 0.3] , [0.4, 0.5, 3]]) # 3*3\n",
        "\n",
        "l1 = loss(y_pred_good , y)\n",
        "l2 = loss(y_pred_bad , y)\n",
        "print(f\" The good prediction loss : {l1.item():.2f}\\n\")\n",
        "print(f\" The bad prediction loss : {l2.item():.2f}\")\n",
        "\n",
        "_,pred_label1 = torch.max(y_pred_good , 1)\n",
        "_,pred_label2 = torch.max(y_pred_bad , 1)\n",
        "print(\"\\n\" , pred_label1 , pred_label2)"
      ],
      "metadata": {
        "colab": {
          "base_uri": "https://localhost:8080/"
        },
        "id": "iAlRRyB-Trzn",
        "outputId": "a9c91b6a-99cb-4b7e-f3d9-e15bcca3e9a8"
      },
      "execution_count": null,
      "outputs": [
        {
          "output_type": "stream",
          "name": "stdout",
          "text": [
            " The good prediction loss : 0.19\n",
            "\n",
            " The bad prediction loss : 2.83\n",
            "\n",
            " tensor([1, 2, 0]) tensor([0, 0, 2])\n"
          ]
        }
      ]
    },
    {
      "cell_type": "markdown",
      "source": [
        "### CrossEntropyLoss(CEE) vs BinaryCrossEntropyLoss(BCE)\n",
        "  * CrossEntropyLoss can be applied to any classification task with arbitrary number of classes(2 and greater than 2 classes)\n",
        "  * Binary CrossEntropy can only be applied to binary classification task.\n",
        "  * CrossEntropyLoss employes softmax in it's own implementation.\n",
        "  * BinaryCrossEntropy only employes NNLLoss, so we should apply a sigmoid to convert the model output into probability, and then calculate the loss.  "
      ],
      "metadata": {
        "id": "Yfqlj4ZSXWrQ"
      }
    },
    {
      "cell_type": "markdown",
      "source": [
        "# **Activation Functions**"
      ],
      "metadata": {
        "id": "SBu2vahaZf9m"
      }
    },
    {
      "cell_type": "code",
      "source": [
        "import torch\n",
        "import torch.nn as nn\n",
        "import torch.nn.functional as F"
      ],
      "metadata": {
        "id": "lo0YeSqWWlo8"
      },
      "execution_count": null,
      "outputs": []
    },
    {
      "cell_type": "markdown",
      "source": [
        "## Importing activations using nn\n",
        "  * First, create activation class, then apply it to a input tensor\n",
        "  * nn.ReLU() , nn.Sigmoid() , nn.Softmax() nn.TanH() , nn.LeakyReLU()\n",
        "  * Starts with capital letter.\n",
        "  * Create an instance using self in the __init__ section\n",
        "  * Ex. __init__ : self.relu = nn.ReLU() , forward : out = self.relu(...) "
      ],
      "metadata": {
        "id": "pkXtU7SPiXn-"
      }
    },
    {
      "cell_type": "code",
      "source": [
        "print(torch.tensor([[1 , 2 , 0.5]]).shape)\n",
        "print(torch.tensor([1 , 2 , 0.5]).shape)\n"
      ],
      "metadata": {
        "colab": {
          "base_uri": "https://localhost:8080/"
        },
        "id": "Whc8VqB121fC",
        "outputId": "95069808-ed5e-45f4-9e76-cbc4ef618620"
      },
      "execution_count": null,
      "outputs": [
        {
          "output_type": "stream",
          "name": "stdout",
          "text": [
            "torch.Size([1, 3])\n",
            "torch.Size([3])\n"
          ]
        }
      ]
    },
    {
      "cell_type": "code",
      "source": [
        "Act = nn.Softmax(dim=1) # Create the instance\n",
        "\n",
        "print(Act(torch.tensor([[1 , 2 , 0.5]]))) # apply\n",
        "# or\n",
        "Act = nn.Softmax(dim=0)\n",
        "print(Act(torch.tensor([1 , 2 , 0.5])))"
      ],
      "metadata": {
        "colab": {
          "base_uri": "https://localhost:8080/"
        },
        "id": "9YB_OP0CiS8n",
        "outputId": "a4bef2f9-83b4-4286-ce29-7651104e8b40"
      },
      "execution_count": null,
      "outputs": [
        {
          "output_type": "stream",
          "name": "stdout",
          "text": [
            "tensor([[0.2312, 0.6285, 0.1402],\n",
            "        [0.0900, 0.2447, 0.6652]])\n",
            "tensor([0.2312, 0.6285, 0.1402])\n"
          ]
        }
      ]
    },
    {
      "cell_type": "markdown",
      "source": [
        "## Importing activations using torch\n",
        "  * Used directly in the forward section: Ex. out = torch.sigmoid(...)\n",
        "  * torch.softmax , troch.sigmoid , torch.relu , torch.tanh (Not include **leaky_relu**) => recommend to use nn.functional\n",
        "  * written in small letter."
      ],
      "metadata": {
        "id": "b7XF95uFjjtw"
      }
    },
    {
      "cell_type": "code",
      "source": [
        "x = torch.tensor([1, 2, 3])\n",
        "print(torch.sigmoid(x))"
      ],
      "metadata": {
        "colab": {
          "base_uri": "https://localhost:8080/"
        },
        "id": "1HYCzriaim6l",
        "outputId": "084e450f-abc2-4247-9772-c2b91be45906"
      },
      "execution_count": null,
      "outputs": [
        {
          "output_type": "stream",
          "name": "stdout",
          "text": [
            "tensor([0.7311, 0.8808, 0.9526])\n"
          ]
        }
      ]
    },
    {
      "cell_type": "markdown",
      "source": [
        "## Importing activations using F \n",
        "  * input tensor should be a float32 type."
      ],
      "metadata": {
        "id": "GXXDVyZLner_"
      }
    },
    {
      "cell_type": "code",
      "source": [
        "# exclude leaky_relu\n",
        "x = torch.tensor([1, 2, 3])\n",
        "print(torch.leaky_relu(x))"
      ],
      "metadata": {
        "colab": {
          "base_uri": "https://localhost:8080/",
          "height": 200
        },
        "id": "VUrTQ3DUkaNZ",
        "outputId": "201f8da6-ecdd-49c2-b247-e23f117ccdd1"
      },
      "execution_count": null,
      "outputs": [
        {
          "output_type": "error",
          "ename": "AttributeError",
          "evalue": "ignored",
          "traceback": [
            "\u001b[0;31m---------------------------------------------------------------------------\u001b[0m",
            "\u001b[0;31mAttributeError\u001b[0m                            Traceback (most recent call last)",
            "\u001b[0;32m<ipython-input-24-2da69de95eeb>\u001b[0m in \u001b[0;36m<module>\u001b[0;34m()\u001b[0m\n\u001b[1;32m      1\u001b[0m \u001b[0;31m# exclude leaky_relu\u001b[0m\u001b[0;34m\u001b[0m\u001b[0;34m\u001b[0m\u001b[0;34m\u001b[0m\u001b[0m\n\u001b[1;32m      2\u001b[0m \u001b[0mx\u001b[0m \u001b[0;34m=\u001b[0m \u001b[0mtorch\u001b[0m\u001b[0;34m.\u001b[0m\u001b[0mtensor\u001b[0m\u001b[0;34m(\u001b[0m\u001b[0;34m[\u001b[0m\u001b[0;36m1\u001b[0m\u001b[0;34m,\u001b[0m \u001b[0;36m2\u001b[0m\u001b[0;34m,\u001b[0m \u001b[0;36m3\u001b[0m\u001b[0;34m]\u001b[0m\u001b[0;34m)\u001b[0m\u001b[0;34m\u001b[0m\u001b[0;34m\u001b[0m\u001b[0m\n\u001b[0;32m----> 3\u001b[0;31m \u001b[0mprint\u001b[0m\u001b[0;34m(\u001b[0m\u001b[0mtorch\u001b[0m\u001b[0;34m.\u001b[0m\u001b[0mleaky_relu\u001b[0m\u001b[0;34m(\u001b[0m\u001b[0mx\u001b[0m\u001b[0;34m)\u001b[0m\u001b[0;34m)\u001b[0m\u001b[0;34m\u001b[0m\u001b[0;34m\u001b[0m\u001b[0m\n\u001b[0m",
            "\u001b[0;31mAttributeError\u001b[0m: module 'torch' has no attribute 'leaky_relu'"
          ]
        }
      ]
    },
    {
      "cell_type": "code",
      "source": [
        "x = torch.tensor([-1, -0.5 , 2, 3],dtype=torch.float32)\n",
        "print(F.leaky_relu(x))"
      ],
      "metadata": {
        "colab": {
          "base_uri": "https://localhost:8080/"
        },
        "id": "LUu_1j7FnsAd",
        "outputId": "059a188a-4a33-46a2-ec44-ff5b66c882ae"
      },
      "execution_count": null,
      "outputs": [
        {
          "output_type": "stream",
          "name": "stdout",
          "text": [
            "tensor([-0.0100, -0.0050,  2.0000,  3.0000])\n"
          ]
        }
      ]
    },
    {
      "cell_type": "markdown",
      "source": [
        "# **Implementing a feed forward neuarl network**"
      ],
      "metadata": {
        "id": "2g1damBh0DW3"
      }
    },
    {
      "cell_type": "code",
      "source": [
        "import torch\n",
        "import torch.nn as nn\n",
        "import torchvision\n",
        "import torchvision.transforms as transforms\n",
        "from torch.utils.data import DataLoader\n",
        "import matplotlib.pyplot as plt"
      ],
      "metadata": {
        "id": "sc9FW-pFoZKk"
      },
      "execution_count": null,
      "outputs": []
    },
    {
      "cell_type": "code",
      "source": [
        "# device config\n",
        "device = torch.device('cuda' if torch.cuda.is_available() else 'cpu')"
      ],
      "metadata": {
        "id": "dLq5ox1H0hi0"
      },
      "execution_count": null,
      "outputs": []
    },
    {
      "cell_type": "code",
      "source": [
        "# init\n",
        "input_size = 28 * 28\n",
        "hidden_size = 100\n",
        "n_classes = 10\n",
        "num_epochs = 2\n",
        "batch_size = 100\n",
        "learning_rate = 0.001 "
      ],
      "metadata": {
        "id": "JTBYFdmJ3OIY"
      },
      "execution_count": null,
      "outputs": []
    },
    {
      "cell_type": "code",
      "source": [
        "# Load Dataset(MNIST)\n",
        "train_dataset = torchvision.datasets.MNIST(root = './data' , train = True , transform = transforms.ToTensor(), download = True )\n",
        "test_dataset = torchvision.datasets.MNIST(root = './data' , train = False , transform = transforms.ToTensor())"
      ],
      "metadata": {
        "id": "t96rTR1d4PWl",
        "colab": {
          "base_uri": "https://localhost:8080/",
          "height": 423,
          "referenced_widgets": [
            "d55373061520403c96d61ffdad06993a",
            "bb4bf1afa52546faa33ed0a48d5465a0",
            "3744035230bb46e6b30dfe79386368ba",
            "c13a23b2a235491a8686aa83dad15aeb",
            "2f4c0514d0314351a1c81815569b829c",
            "236501633e0c4e128485a479533c524c",
            "a34f89e6c3b74ef09a72a0d2cc4c0100",
            "bbc2fd671a6541e3bc6542f2497d88a8",
            "0599dcc80a0840a3bf4608970b612f49",
            "ebd5b7a5cdfa4643832ffc14cfff7d3d",
            "d3113b65e3634052a0cb8498cb5e5428",
            "1e3357a13e954cb794d9af14d7430149",
            "2ef9ce1d8cf242eea15494074fa1d9b3",
            "b5b81ae9091c4b97991c66e809b9d5b7",
            "77c5f7a0074c43ba9db4d316c5af7fdf",
            "5ab42f5d11e44cb6a3206392713b1227",
            "be8f5d871fa94c849832c334112bb861",
            "f28b61162f38421095653650f21d1ef3",
            "d772cbe0a09a451bbb11f57eb51282c3",
            "f20b7645111148a5b5f6851a8179786f",
            "3369290057a34f0c8e71d5f20f1b210c",
            "b11ef81d248246169cb333d7eb14e50b",
            "8069d06f822e4c089d93fd3630916436",
            "f973f0bb77a24150b05f8f8691938235",
            "b1f76cf5b4294f0e9f017e4fa29725f1",
            "c903a51b4d734ec2b6eacffeaedefe87",
            "763fdefc59574b8885dbad9bd741a273",
            "85fff734d85b422787d6f8afb059531a",
            "71ef36151be742ab85a52ad965855c3b",
            "22c042aa8bd2407b8f39eba1f4a24647",
            "c7fc9bae0ba243aca087c138f9803831",
            "a3c66bf1da414cd3865fec61e9198150",
            "f17fa29c78f7474eb6cc3a4c28ef2688",
            "6c1402291ee6457395f9c57c7a1b1879",
            "a3f206bbdca5419d8fa0eaaa857d6141",
            "4a76435cdf3f4043994030db53307ef2",
            "2a1aa0c194d34fa0acfc9db5c71ad7e6",
            "df14db4dc27648c6b539218b24fe3da4",
            "31c6b15d5661455da031599655e66470",
            "60915470b1804b5bbf5fe528509f909d",
            "68be7d204c6b446f8f22e235201cb64b",
            "faf53a2d87114f66bdd181ef52bfddc2",
            "242ca09ef3ca4384a8d1e647127bd99f",
            "8e171fb98f8244d7aed3f27657b80992"
          ]
        },
        "outputId": "7a518f96-404f-4f64-b2fe-f5874ba27802"
      },
      "execution_count": null,
      "outputs": [
        {
          "output_type": "stream",
          "name": "stdout",
          "text": [
            "Downloading http://yann.lecun.com/exdb/mnist/train-images-idx3-ubyte.gz\n",
            "Downloading http://yann.lecun.com/exdb/mnist/train-images-idx3-ubyte.gz to ./data/MNIST/raw/train-images-idx3-ubyte.gz\n"
          ]
        },
        {
          "output_type": "display_data",
          "data": {
            "text/plain": [
              "  0%|          | 0/9912422 [00:00<?, ?it/s]"
            ],
            "application/vnd.jupyter.widget-view+json": {
              "version_major": 2,
              "version_minor": 0,
              "model_id": "d55373061520403c96d61ffdad06993a"
            }
          },
          "metadata": {}
        },
        {
          "output_type": "stream",
          "name": "stdout",
          "text": [
            "Extracting ./data/MNIST/raw/train-images-idx3-ubyte.gz to ./data/MNIST/raw\n",
            "\n",
            "Downloading http://yann.lecun.com/exdb/mnist/train-labels-idx1-ubyte.gz\n",
            "Downloading http://yann.lecun.com/exdb/mnist/train-labels-idx1-ubyte.gz to ./data/MNIST/raw/train-labels-idx1-ubyte.gz\n"
          ]
        },
        {
          "output_type": "display_data",
          "data": {
            "text/plain": [
              "  0%|          | 0/28881 [00:00<?, ?it/s]"
            ],
            "application/vnd.jupyter.widget-view+json": {
              "version_major": 2,
              "version_minor": 0,
              "model_id": "1e3357a13e954cb794d9af14d7430149"
            }
          },
          "metadata": {}
        },
        {
          "output_type": "stream",
          "name": "stdout",
          "text": [
            "Extracting ./data/MNIST/raw/train-labels-idx1-ubyte.gz to ./data/MNIST/raw\n",
            "\n",
            "Downloading http://yann.lecun.com/exdb/mnist/t10k-images-idx3-ubyte.gz\n",
            "Downloading http://yann.lecun.com/exdb/mnist/t10k-images-idx3-ubyte.gz to ./data/MNIST/raw/t10k-images-idx3-ubyte.gz\n"
          ]
        },
        {
          "output_type": "display_data",
          "data": {
            "text/plain": [
              "  0%|          | 0/1648877 [00:00<?, ?it/s]"
            ],
            "application/vnd.jupyter.widget-view+json": {
              "version_major": 2,
              "version_minor": 0,
              "model_id": "8069d06f822e4c089d93fd3630916436"
            }
          },
          "metadata": {}
        },
        {
          "output_type": "stream",
          "name": "stdout",
          "text": [
            "Extracting ./data/MNIST/raw/t10k-images-idx3-ubyte.gz to ./data/MNIST/raw\n",
            "\n",
            "Downloading http://yann.lecun.com/exdb/mnist/t10k-labels-idx1-ubyte.gz\n",
            "Downloading http://yann.lecun.com/exdb/mnist/t10k-labels-idx1-ubyte.gz to ./data/MNIST/raw/t10k-labels-idx1-ubyte.gz\n"
          ]
        },
        {
          "output_type": "display_data",
          "data": {
            "text/plain": [
              "  0%|          | 0/4542 [00:00<?, ?it/s]"
            ],
            "application/vnd.jupyter.widget-view+json": {
              "version_major": 2,
              "version_minor": 0,
              "model_id": "6c1402291ee6457395f9c57c7a1b1879"
            }
          },
          "metadata": {}
        },
        {
          "output_type": "stream",
          "name": "stdout",
          "text": [
            "Extracting ./data/MNIST/raw/t10k-labels-idx1-ubyte.gz to ./data/MNIST/raw\n",
            "\n"
          ]
        }
      ]
    },
    {
      "cell_type": "code",
      "source": [
        "# Creat a DataLoader instance\n",
        "train_loader = DataLoader(train_dataset , batch_size = batch_size , shuffle = True)\n",
        "test_loader = DataLoader(test_dataset , batch_size = batch_size , shuffle = True)\n",
        "# testing \n",
        "ex = iter(train_loader)\n",
        "samples , labels = next(ex)\n",
        "print(samples.shape , labels.shape)"
      ],
      "metadata": {
        "colab": {
          "base_uri": "https://localhost:8080/"
        },
        "id": "fpdnkfmJ53n-",
        "outputId": "b9dea5c9-f470-4eae-c9b9-54d35f8a3884"
      },
      "execution_count": null,
      "outputs": [
        {
          "output_type": "stream",
          "name": "stdout",
          "text": [
            "torch.Size([100, 1, 28, 28]) torch.Size([100])\n"
          ]
        }
      ]
    },
    {
      "cell_type": "code",
      "source": [
        "samples[50].view(-1,28**2).shape"
      ],
      "metadata": {
        "colab": {
          "base_uri": "https://localhost:8080/"
        },
        "id": "5oSfipsb639D",
        "outputId": "4906aa86-694b-4b17-c66d-bab7a12da309"
      },
      "execution_count": null,
      "outputs": [
        {
          "output_type": "execute_result",
          "data": {
            "text/plain": [
              "torch.Size([1, 784])"
            ]
          },
          "metadata": {},
          "execution_count": 18
        }
      ]
    },
    {
      "cell_type": "code",
      "source": [
        "# plotting some random images\n",
        "for i in range(6):\n",
        "  plt.subplot(2,3,i+1)\n",
        "  plt.imshow(samples[i][0] , cmap='gray')"
      ],
      "metadata": {
        "colab": {
          "base_uri": "https://localhost:8080/",
          "height": 267
        },
        "id": "uDWVlUtI60jk",
        "outputId": "2dc2bda4-6f79-480c-e7de-2b22b5d1a07d"
      },
      "execution_count": null,
      "outputs": [
        {
          "output_type": "display_data",
          "data": {
            "text/plain": [
              "<Figure size 432x288 with 6 Axes>"
            ],
            "image/png": "[encoded data removed]"
          },
          "metadata": {
            "needs_background": "light"
          }
        }
      ]
    },
    {
      "cell_type": "code",
      "source": [
        "torch.tensor([1,2,3]).sum()#.item()"
      ],
      "metadata": {
        "colab": {
          "base_uri": "https://localhost:8080/"
        },
        "id": "akisziO3PAvi",
        "outputId": "0d018d3f-abcd-42f8-daf2-8cf2811b43a3"
      },
      "execution_count": null,
      "outputs": [
        {
          "output_type": "execute_result",
          "data": {
            "text/plain": [
              "tensor(6)"
            ]
          },
          "metadata": {},
          "execution_count": 65
        }
      ]
    },
    {
      "cell_type": "code",
      "source": [
        "# define class\n",
        "class FeedForward(nn.Module):\n",
        "  def __init__(self,input_size ,hidden_size , n_classes):\n",
        "    super(FeedForward , self).__init__()\n",
        "    self.l1 = nn.Linear(input_size ,hidden_size)\n",
        "    self.relu = nn.ReLU()\n",
        "    self.l2 = nn.Linear(hidden_size , n_classes)\n",
        "  def forward(self, x):\n",
        "    out = self.l1(x)\n",
        "    out = self.relu(out)\n",
        "    out = self.l2(out)\n",
        "    return out\n",
        "\n",
        "model = FeedForward(input_size , hidden_size , n_classes).to(device)\n",
        "\n",
        "# loss , optimizer\n",
        "criterion = nn.CrossEntropyLoss() #loss\n",
        "optimizer = torch.optim.Adam( model.parameters() ,lr = learning_rate)\n",
        "# training\n",
        "n_total_steps = len(train_loader)\n",
        "for epoch in range(num_epochs):\n",
        "  for i , (inputs , targets) in enumerate(train_loader):\n",
        "    # reshape inputs(100,1,28,28) => (100 , 28*28)\n",
        "    inputs = inputs.view(-1,28*28).to(device)\n",
        "    targets = targets.to(device)\n",
        "\n",
        "    # forward\n",
        "    pred = model(inputs)\n",
        "    l1 = criterion(pred,targets)\n",
        "    # backprog\n",
        "    optimizer.zero_grad()\n",
        "    l1.backward()\n",
        "    optimizer.step()\n",
        "\n",
        "    # printing\n",
        "    if (i+1)%100 == 0:\n",
        "      print(f\"epcoh {epoch+1}/{num_epochs} , step : {i+1}/{n_total_steps} , loss : {l1.item():.2f}\")\n",
        "\n",
        "\n",
        "with torch.no_grad():\n",
        "  n_correct = 0\n",
        "  n_samples = 0\n",
        "  for i , (inputs , targets) in enumerate(test_loader):\n",
        "    inputs = inputs.view(-1,28*28).to(device)\n",
        "    targets = targets.to(device)\n",
        "    # pred\n",
        "    out = model(inputs)\n",
        "    _,pred = torch.max(out , dim = 1)\n",
        "    n_correct += (pred == targets).sum().item()\n",
        "    n_samples += targets.shape[0]\n",
        "  \n",
        "  acc = 100 * n_correct / n_samples\n",
        "  print(f'acc : {acc:.2f}')\n"
      ],
      "metadata": {
        "colab": {
          "base_uri": "https://localhost:8080/"
        },
        "id": "-H9QbvMb9xEc",
        "outputId": "97ad39a9-e341-4273-ec05-3aba8d487d53"
      },
      "execution_count": null,
      "outputs": [
        {
          "output_type": "stream",
          "name": "stdout",
          "text": [
            "epcoh 1/2 , step : 100/600 , loss : 0.48\n",
            "epcoh 1/2 , step : 200/600 , loss : 0.45\n",
            "epcoh 1/2 , step : 300/600 , loss : 0.20\n",
            "epcoh 1/2 , step : 400/600 , loss : 0.20\n",
            "epcoh 1/2 , step : 500/600 , loss : 0.16\n",
            "epcoh 1/2 , step : 600/600 , loss : 0.24\n",
            "epcoh 2/2 , step : 100/600 , loss : 0.17\n",
            "epcoh 2/2 , step : 200/600 , loss : 0.12\n",
            "epcoh 2/2 , step : 300/600 , loss : 0.25\n",
            "epcoh 2/2 , step : 400/600 , loss : 0.23\n",
            "epcoh 2/2 , step : 500/600 , loss : 0.11\n",
            "epcoh 2/2 , step : 600/600 , loss : 0.11\n",
            "acc : 95.38\n"
          ]
        }
      ]
    },
    {
      "cell_type": "markdown",
      "source": [
        "# **Implementing a Convolutional neuarl network**"
      ],
      "metadata": {
        "id": "cIG5YHUrnnLl"
      }
    },
    {
      "cell_type": "code",
      "source": [
        "#Exercise "
      ],
      "metadata": {
        "id": "Lr6UHokRnGVz"
      },
      "execution_count": null,
      "outputs": []
    },
    {
      "cell_type": "markdown",
      "source": [
        "# **Transfer Learning**"
      ],
      "metadata": {
        "id": "Jkk8kEzA4SOu"
      }
    },
    {
      "cell_type": "code",
      "source": [
        "import torch\n",
        "import torch.nn as nn\n",
        "import torch.optim as optim\n",
        "from torch.optim import lr_scheduler\n",
        "import numpy as np\n",
        "import torchvision\n",
        "from torchvision import datasets , models , transforms\n",
        "from torch.utils.data import DataLoader\n",
        "import matplotlib.pyplot as plt\n",
        "import time \n",
        "import os\n",
        "import copy"
      ],
      "metadata": {
        "id": "43CVs7ZN4VaZ"
      },
      "execution_count": null,
      "outputs": []
    },
    {
      "cell_type": "code",
      "source": [
        "#device config\n",
        "device = torch.device(\"cuda\" if torch.cuda.is_available() else \"cpu\")"
      ],
      "metadata": {
        "id": "eHrG1ID_Uvxl"
      },
      "execution_count": null,
      "outputs": []
    },
    {
      "cell_type": "code",
      "source": [
        "# work with transforms\n",
        "mean = np.array([0.485 ,0.456 ,0.406])\n",
        "std = np.array([0.229 ,0.224 ,0.225])\n",
        "\n",
        "data_transforms = {\n",
        "    \"train\" :\n",
        "        transforms.Compose([\n",
        "        transforms.RandomResizedCrop(220),\n",
        "        transforms.RandomHorizontalFlip(),\n",
        "        transforms.ToTensor(),\n",
        "        transforms.Normalize(mean , std)                            \n",
        "    ]),\n",
        "    \"val\" : \n",
        "      transforms.Compose([\n",
        "      transforms.Resize(256),\n",
        "      transforms.CenterCrop(250),\n",
        "      transforms.ToTensor(),\n",
        "      transforms.Normalize(mean , std)                    \n",
        "      ]),\n",
        "}\n"
      ],
      "metadata": {
        "id": "rEwGPOTtWADG"
      },
      "execution_count": null,
      "outputs": []
    },
    {
      "cell_type": "code",
      "source": [
        "# Dealing with dara\n",
        "from google.colab import drive\n",
        "drive.mount('/content/drive')"
      ],
      "metadata": {
        "colab": {
          "base_uri": "https://localhost:8080/"
        },
        "id": "UthmbcMPX_Iz",
        "outputId": "f9594470-61d3-415c-f0b9-7e9e857d8bde"
      },
      "execution_count": null,
      "outputs": [
        {
          "output_type": "stream",
          "name": "stdout",
          "text": [
            "Mounted at /content/drive\n"
          ]
        }
      ]
    },
    {
      "cell_type": "code",
      "source": [
        "# Datsets , DataLoader\n",
        "data_dir ='/content/drive/MyDrive/Notebooks/Pytorch_Tutorial/hymenoptera_data.zip (Unzipped Files)/hymenoptera_data/'\n",
        "sets = ['train' , 'val']\n",
        "image_dataset = {x : datasets.ImageFolder(os.path.join(data_dir , x) , data_transforms[x]) for x in sets}\n",
        "data_loaders = {x : DataLoader(image_dataset[x] , batch_size = 4 , shuffle = True , num_workers = 0) for x in sets}\n",
        "dataset_sizes = {x : len(image_dataset[x]) for x in sets} \n",
        "print(dataset_sizes)\n",
        "class_names = image_dataset['train'].classes\n",
        "print(class_names)"
      ],
      "metadata": {
        "colab": {
          "base_uri": "https://localhost:8080/"
        },
        "id": "UT-AflO5rOU4",
        "outputId": "f4807499-2cc5-4ca1-ee31-8ea20eb260b6"
      },
      "execution_count": null,
      "outputs": [
        {
          "output_type": "stream",
          "name": "stdout",
          "text": [
            "{'train': 244, 'val': 153}\n",
            "['ants', 'bees']\n"
          ]
        }
      ]
    },
    {
      "cell_type": "code",
      "source": [
        "A = np.random.rand(2,2,3)\n",
        "A"
      ],
      "metadata": {
        "colab": {
          "base_uri": "https://localhost:8080/"
        },
        "id": "5GhgbV_ORguQ",
        "outputId": "0b5f8327-1db8-4596-faeb-fb48b7883f8d"
      },
      "execution_count": null,
      "outputs": [
        {
          "output_type": "execute_result",
          "data": {
            "text/plain": [
              "array([[[0.40414624, 0.97916179, 0.97843442],\n",
              "        [0.58613184, 0.1653862 , 0.9134577 ]],\n",
              "\n",
              "       [[0.85400859, 0.40918424, 0.27281436],\n",
              "        [0.5658334 , 0.75260135, 0.44823035]]])"
            ]
          },
          "metadata": {},
          "execution_count": 26
        }
      ]
    },
    {
      "cell_type": "code",
      "source": [
        "A.transpose(1,2,0) # (2,3,2)"
      ],
      "metadata": {
        "colab": {
          "base_uri": "https://localhost:8080/"
        },
        "id": "pS6Q5ZbDRzqv",
        "outputId": "42750ad5-bfea-4409-aee0-a879a0b5b02b"
      },
      "execution_count": null,
      "outputs": [
        {
          "output_type": "execute_result",
          "data": {
            "text/plain": [
              "array([[[0.40414624, 0.85400859],\n",
              "        [0.97916179, 0.40918424],\n",
              "        [0.97843442, 0.27281436]],\n",
              "\n",
              "       [[0.58613184, 0.5658334 ],\n",
              "        [0.1653862 , 0.75260135],\n",
              "        [0.9134577 , 0.44823035]]])"
            ]
          },
          "metadata": {},
          "execution_count": 27
        }
      ]
    },
    {
      "cell_type": "code",
      "source": [
        "def imshow(inp, title):\n",
        "    \"\"\"Imshow for Tensor.\"\"\"\n",
        "    print(inp.shape)\n",
        "    inp = inp.numpy().transpose((1, 2, 0)) # in order to plot images, the channel dimention should be the last dim.\n",
        "    print(inp.shape)\n",
        "    inp = std * inp + mean\n",
        "    inp = np.clip(inp, 0, 1)\n",
        "    plt.imshow(inp)\n",
        "    plt.title(title)\n",
        "    plt.show()\n",
        "\n",
        "# Get a batch of training data\n",
        "inputs, classes = next(iter(data_loaders['train']))\n",
        "\n",
        "# Make a grid from batch\n",
        "out = torchvision.utils.make_grid(inputs) # concatenate images in a row (reduce from 4 dim into 3 dim)  (4,1,28,28) => (1,28,28*4)\n",
        "\n",
        "imshow(out , title=[class_names[x] for x in classes])"
      ],
      "metadata": {
        "colab": {
          "base_uri": "https://localhost:8080/",
          "height": 183
        },
        "id": "BkHFRwqz36y-",
        "outputId": "e76dff82-a7f6-48cb-9fd3-4b8ebff4fae7"
      },
      "execution_count": null,
      "outputs": [
        {
          "output_type": "stream",
          "name": "stdout",
          "text": [
            "torch.Size([3, 224, 890])\n",
            "(224, 890, 3)\n"
          ]
        },
        {
          "output_type": "display_data",
          "data": {
            "text/plain": [
              "<Figure size 432x288 with 1 Axes>"
            ],
            "image/png": "[encoded data removed]"
          },
          "metadata": {
            "needs_background": "light"
          }
        }
      ]
    },
    {
      "cell_type": "code",
      "source": [
        "# Create the model\n",
        "def train_model(model, criterion, optimizer, scheduler, num_epochs=25):\n",
        "    since = time.time()\n",
        "\n",
        "    best_model_wts = copy.deepcopy(model.state_dict())\n",
        "    best_acc = 0.0\n",
        "\n",
        "    for epoch in range(num_epochs):\n",
        "        print('Epoch {}/{}'.format(epoch, num_epochs - 1))\n",
        "        print('-' * 10)\n",
        "\n",
        "        # Each epoch has a training and validation phase\n",
        "        for phase in ['train', 'val']:\n",
        "            if phase == 'train':\n",
        "                model.train()  # Set model to training mode\n",
        "            else:\n",
        "                model.eval()   # Set model to evaluate mode\n",
        "\n",
        "            running_loss = 0.0\n",
        "            running_corrects = 0\n",
        "\n",
        "            # Iterate over data.\n",
        "            for inputs, labels in data_loaders[phase]:\n",
        "                inputs = inputs.to(device)\n",
        "                labels = labels.to(device)\n",
        "\n",
        "                # forward\n",
        "                # track history if only in train\n",
        "                with torch.set_grad_enabled(phase == 'train'):\n",
        "                    outputs = model(inputs)\n",
        "                    _, preds = torch.max(outputs, 1)\n",
        "                    loss = criterion(outputs, labels)\n",
        "\n",
        "                    # backward + optimize only if in training phase\n",
        "                    if phase == 'train':\n",
        "                        optimizer.zero_grad()\n",
        "                        loss.backward()\n",
        "                        optimizer.step()\n",
        "\n",
        "                # statistics\n",
        "                running_loss += loss.item() * inputs.size(0)\n",
        "                running_corrects += torch.sum(preds == labels.data)\n",
        "\n",
        "            if phase == 'train':\n",
        "                scheduler.step()\n",
        "\n",
        "            epoch_loss = running_loss / dataset_sizes[phase]\n",
        "            epoch_acc = running_corrects.type(torch.float64) / dataset_sizes[phase]\n",
        "\n",
        "            print('{} Loss: {:.4f} Acc: {:.4f}'.format(\n",
        "                phase, epoch_loss, epoch_acc))\n",
        "\n",
        "            # deep copy the model\n",
        "            if phase == 'val' and epoch_acc > best_acc:\n",
        "                best_acc = epoch_acc\n",
        "                best_model_wts = copy.deepcopy(model.state_dict())\n",
        "\n",
        "        print()\n",
        "\n",
        "    time_elapsed = time.time() - since\n",
        "    print('Training complete in {:.0f}m {:.0f}s'.format(\n",
        "        time_elapsed // 60, time_elapsed % 60))\n",
        "    print('Best val Acc: {:4f}'.format(best_acc))\n",
        "\n",
        "    # load best model weights\n",
        "    model.load_state_dict(best_model_wts)\n",
        "    return model"
      ],
      "metadata": {
        "id": "dsBZFYO4wmE3"
      },
      "execution_count": null,
      "outputs": []
    },
    {
      "cell_type": "markdown",
      "source": [
        "## Finetuning vs Freezing"
      ],
      "metadata": {
        "id": "M1pYwzgEjJcA"
      }
    },
    {
      "cell_type": "code",
      "source": [
        "#### Finetuning the convnet ####\n",
        "model = models.resnet18(pretrained = True)\n",
        "num_features = model.fc.in_features\n",
        "# assign a new output size\n",
        "model.fc = nn.Linear(num_features , 2)\n",
        "model.to(device)\n",
        "# loss , optimizer\n",
        "criterion = nn.CrossEntropyLoss()\n",
        "optimizer = optim.SGD(model.parameters() , lr = 0.05)\n",
        "\n",
        "#scheduler\n",
        "step_lr_schedu = lr_scheduler.StepLR(optimizer , step_size = 10 , gamma = 0.1)\n",
        "\n",
        "model = train_model(model , criterion , optimizer , step_lr_schedu , num_epochs = 2)\n",
        "### Freezing all the layers except the last layer\n",
        "model = models.resnet18(pretrained = True)\n",
        "for param in model.parameters():\n",
        "  param.requires_grad= False\n",
        "num_features = model.fc.in_features\n",
        "# assign a new output size\n",
        "model.fc = nn.Linear(num_features , 2)\n",
        "model.to(device)\n",
        "# loss , optimizer\n",
        "criterion = nn.CrossEntropyLoss()\n",
        "opimizer = optim.SGD(model.parameters() , lr = 0.05)\n",
        "\n",
        "#scheduler\n",
        "step_lr_schedu = lr_scheduler.StepLR(optimizer , step_size = 10 , gamma = 0.1)\n",
        "\n",
        "model = train_model(model , criterion , optimizer , step_lr_schedu , num_epochs = 2)"
      ],
      "metadata": {
        "colab": {
          "base_uri": "https://localhost:8080/"
        },
        "id": "v-7Wa6LH6jHr",
        "outputId": "9431bf7b-843a-49d0-ac03-8874b69505f9"
      },
      "execution_count": null,
      "outputs": [
        {
          "output_type": "stream",
          "name": "stdout",
          "text": [
            "Epoch 0/1\n",
            "----------\n",
            "train Loss: 3.7550 Acc: 0.5492\n",
            "val Loss: 9.7473 Acc: 0.4771\n",
            "\n",
            "Epoch 1/1\n",
            "----------\n",
            "train Loss: 3.2041 Acc: 0.4959\n",
            "val Loss: 2.0744 Acc: 0.4314\n",
            "\n",
            "Training complete in 0m 10s\n",
            "Best val Acc: 0.477124\n",
            "Epoch 0/1\n",
            "----------\n",
            "train Loss: 0.8098 Acc: 0.5000\n",
            "val Loss: 0.8978 Acc: 0.4314\n",
            "\n",
            "Epoch 1/1\n",
            "----------\n",
            "train Loss: 0.8001 Acc: 0.5164\n",
            "val Loss: 0.9247 Acc: 0.4510\n",
            "\n",
            "Training complete in 0m 9s\n",
            "Best val Acc: 0.450980\n"
          ]
        }
      ]
    },
    {
      "cell_type": "markdown",
      "source": [
        "# **Saving Model**"
      ],
      "metadata": {
        "id": "hjLhM6YjjU2n"
      }
    },
    {
      "cell_type": "markdown",
      "source": [
        "## Complete Model\n",
        "  * torch.save(model , PATH)\n",
        "  * torch.load(PATH)\n",
        "  * model.eval()\n",
        "  \n",
        "## STATE DICT\n",
        "  * torch.save(model.state_dict()))\n",
        "  * model = Model(*args , **kwargs)\n",
        "  * model.load_state_dict(torch.load(PATH))\n",
        "  * model.eval()"
      ],
      "metadata": {
        "id": "u7J0BqW2jvm3"
      }
    }
  ]
}